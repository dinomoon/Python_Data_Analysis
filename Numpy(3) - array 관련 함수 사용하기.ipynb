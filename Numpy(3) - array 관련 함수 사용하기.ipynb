{
 "cells": [
  {
   "cell_type": "code",
   "execution_count": 1,
   "metadata": {},
   "outputs": [],
   "source": [
    "import numpy as np"
   ]
  },
  {
   "cell_type": "markdown",
   "metadata": {},
   "source": [
    "# 1. sqrt, log10, maximum, sum, mean...."
   ]
  },
  {
   "cell_type": "code",
   "execution_count": 2,
   "metadata": {},
   "outputs": [],
   "source": [
    "arr = np.arange(1, 10)"
   ]
  },
  {
   "cell_type": "code",
   "execution_count": 3,
   "metadata": {},
   "outputs": [
    {
     "data": {
      "text/plain": [
       "array([1, 2, 3, 4, 5, 6, 7, 8, 9])"
      ]
     },
     "execution_count": 3,
     "metadata": {},
     "output_type": "execute_result"
    }
   ],
   "source": [
    "arr"
   ]
  },
  {
   "cell_type": "code",
   "execution_count": 4,
   "metadata": {},
   "outputs": [
    {
     "data": {
      "text/plain": [
       "array([1.        , 1.41421356, 1.73205081, 2.        , 2.23606798,\n",
       "       2.44948974, 2.64575131, 2.82842712, 3.        ])"
      ]
     },
     "execution_count": 4,
     "metadata": {},
     "output_type": "execute_result"
    }
   ],
   "source": [
    "np.sqrt(arr)"
   ]
  },
  {
   "cell_type": "code",
   "execution_count": 6,
   "metadata": {},
   "outputs": [
    {
     "data": {
      "text/plain": [
       "array([0.        , 0.30103   , 0.47712125, 0.60205999, 0.69897   ,\n",
       "       0.77815125, 0.84509804, 0.90308999, 0.95424251])"
      ]
     },
     "execution_count": 6,
     "metadata": {},
     "output_type": "execute_result"
    }
   ],
   "source": [
    "np.log10(arr)"
   ]
  },
  {
   "cell_type": "code",
   "execution_count": 8,
   "metadata": {},
   "outputs": [],
   "source": [
    "x = np.random.randn(8)\n",
    "y = np.random.randn(8)"
   ]
  },
  {
   "cell_type": "code",
   "execution_count": 9,
   "metadata": {},
   "outputs": [
    {
     "data": {
      "text/plain": [
       "array([-0.02364152,  1.44557318, -0.28290219,  0.55518026,  0.25102656,\n",
       "        0.33811295, -0.58010021, -1.16421328])"
      ]
     },
     "execution_count": 9,
     "metadata": {},
     "output_type": "execute_result"
    }
   ],
   "source": [
    "x"
   ]
  },
  {
   "cell_type": "code",
   "execution_count": 10,
   "metadata": {},
   "outputs": [
    {
     "data": {
      "text/plain": [
       "array([-0.01462996,  0.43070333, -0.51440704, -1.16865174,  0.40720146,\n",
       "       -0.79099761,  1.51871752,  2.30405338])"
      ]
     },
     "execution_count": 10,
     "metadata": {},
     "output_type": "execute_result"
    }
   ],
   "source": [
    "y"
   ]
  },
  {
   "cell_type": "code",
   "execution_count": 11,
   "metadata": {},
   "outputs": [
    {
     "data": {
      "text/plain": [
       "array([-0.01462996,  1.44557318, -0.28290219,  0.55518026,  0.40720146,\n",
       "        0.33811295,  1.51871752,  2.30405338])"
      ]
     },
     "execution_count": 11,
     "metadata": {},
     "output_type": "execute_result"
    }
   ],
   "source": [
    "np.maximum(x, y)"
   ]
  },
  {
   "cell_type": "code",
   "execution_count": 12,
   "metadata": {},
   "outputs": [],
   "source": [
    "arr = np.random.randn(5, 4)"
   ]
  },
  {
   "cell_type": "code",
   "execution_count": 13,
   "metadata": {},
   "outputs": [
    {
     "data": {
      "text/plain": [
       "array([[-0.16851438, -0.83430668,  1.81437139, -0.67257652],\n",
       "       [-0.77563263,  0.88611515, -1.04965566, -0.50607367],\n",
       "       [-1.00166833, -0.38521463, -0.03609842, -1.70332824],\n",
       "       [ 0.50878522, -1.94137534,  1.5555812 , -0.26617974],\n",
       "       [ 0.94825752, -0.12507344, -1.6935314 , -0.38529623]])"
      ]
     },
     "execution_count": 13,
     "metadata": {},
     "output_type": "execute_result"
    }
   ],
   "source": [
    "arr"
   ]
  },
  {
   "cell_type": "code",
   "execution_count": 14,
   "metadata": {},
   "outputs": [
    {
     "data": {
      "text/plain": [
       "-5.831414853107428"
      ]
     },
     "execution_count": 14,
     "metadata": {},
     "output_type": "execute_result"
    }
   ],
   "source": [
    "arr.sum()"
   ]
  },
  {
   "cell_type": "code",
   "execution_count": 15,
   "metadata": {},
   "outputs": [
    {
     "data": {
      "text/plain": [
       "-0.2915707426553714"
      ]
     },
     "execution_count": 15,
     "metadata": {},
     "output_type": "execute_result"
    }
   ],
   "source": [
    "arr.mean()"
   ]
  },
  {
   "cell_type": "code",
   "execution_count": 16,
   "metadata": {},
   "outputs": [
    {
     "data": {
      "text/plain": [
       "1.0004342482967024"
      ]
     },
     "execution_count": 16,
     "metadata": {},
     "output_type": "execute_result"
    }
   ],
   "source": [
    "arr.std()"
   ]
  },
  {
   "cell_type": "code",
   "execution_count": 17,
   "metadata": {},
   "outputs": [
    {
     "data": {
      "text/plain": [
       "array([-0.48877261, -2.39985494,  0.5906671 , -3.53345441])"
      ]
     },
     "execution_count": 17,
     "metadata": {},
     "output_type": "execute_result"
    }
   ],
   "source": [
    "arr.sum(axis=0)"
   ]
  },
  {
   "cell_type": "code",
   "execution_count": 18,
   "metadata": {},
   "outputs": [
    {
     "data": {
      "text/plain": [
       "array([ 0.1389738 , -1.44524681, -3.12630964, -0.14318866, -1.25564355])"
      ]
     },
     "execution_count": 18,
     "metadata": {},
     "output_type": "execute_result"
    }
   ],
   "source": [
    "arr.sum(axis=1)"
   ]
  },
  {
   "cell_type": "code",
   "execution_count": 19,
   "metadata": {},
   "outputs": [
    {
     "data": {
      "text/plain": [
       "array([[False, False,  True, False],\n",
       "       [False,  True, False, False],\n",
       "       [False, False, False, False],\n",
       "       [ True, False,  True, False],\n",
       "       [ True, False, False, False]])"
      ]
     },
     "execution_count": 19,
     "metadata": {},
     "output_type": "execute_result"
    }
   ],
   "source": [
    "arr > 0"
   ]
  },
  {
   "cell_type": "code",
   "execution_count": 23,
   "metadata": {},
   "outputs": [
    {
     "data": {
      "text/plain": [
       "5"
      ]
     },
     "execution_count": 23,
     "metadata": {},
     "output_type": "execute_result"
    }
   ],
   "source": [
    "(arr > 0).sum()"
   ]
  },
  {
   "cell_type": "markdown",
   "metadata": {},
   "source": [
    "# 2. sort, unique"
   ]
  },
  {
   "cell_type": "code",
   "execution_count": 25,
   "metadata": {},
   "outputs": [],
   "source": [
    "arr = np.random.randn(8)"
   ]
  },
  {
   "cell_type": "code",
   "execution_count": 26,
   "metadata": {},
   "outputs": [
    {
     "data": {
      "text/plain": [
       "array([-0.8542939 , -1.18263336, -1.07201335, -0.83240392,  0.11142223,\n",
       "        1.25021132,  0.9167663 ,  0.19911086])"
      ]
     },
     "execution_count": 26,
     "metadata": {},
     "output_type": "execute_result"
    }
   ],
   "source": [
    "arr"
   ]
  },
  {
   "cell_type": "code",
   "execution_count": 27,
   "metadata": {},
   "outputs": [
    {
     "data": {
      "text/plain": [
       "array([-1.18263336, -1.07201335, -0.8542939 , -0.83240392,  0.11142223,\n",
       "        0.19911086,  0.9167663 ,  1.25021132])"
      ]
     },
     "execution_count": 27,
     "metadata": {},
     "output_type": "execute_result"
    }
   ],
   "source": [
    "np.sort(arr)"
   ]
  },
  {
   "cell_type": "code",
   "execution_count": 28,
   "metadata": {},
   "outputs": [
    {
     "data": {
      "text/plain": [
       "array([ 1.25021132,  0.9167663 ,  0.19911086,  0.11142223, -0.83240392,\n",
       "       -0.8542939 , -1.07201335, -1.18263336])"
      ]
     },
     "execution_count": 28,
     "metadata": {},
     "output_type": "execute_result"
    }
   ],
   "source": [
    "np.sort(arr)[::-1]"
   ]
  },
  {
   "cell_type": "code",
   "execution_count": 29,
   "metadata": {},
   "outputs": [],
   "source": [
    "arr = np.random.randn(5, 3)"
   ]
  },
  {
   "cell_type": "code",
   "execution_count": 30,
   "metadata": {},
   "outputs": [
    {
     "data": {
      "text/plain": [
       "array([[-0.56107036, -1.10155836,  0.92338016],\n",
       "       [-1.95950902,  0.98788256, -0.51974942],\n",
       "       [ 0.45026765, -0.00285286,  1.7950933 ],\n",
       "       [ 1.07947693, -0.21026694,  0.60826436],\n",
       "       [ 1.02261858, -1.31269416,  1.21754931]])"
      ]
     },
     "execution_count": 30,
     "metadata": {},
     "output_type": "execute_result"
    }
   ],
   "source": [
    "arr"
   ]
  },
  {
   "cell_type": "code",
   "execution_count": 31,
   "metadata": {},
   "outputs": [
    {
     "data": {
      "text/plain": [
       "array([[-1.95950902, -1.31269416, -0.51974942],\n",
       "       [-0.56107036, -1.10155836,  0.60826436],\n",
       "       [ 0.45026765, -0.21026694,  0.92338016],\n",
       "       [ 1.02261858, -0.00285286,  1.21754931],\n",
       "       [ 1.07947693,  0.98788256,  1.7950933 ]])"
      ]
     },
     "execution_count": 31,
     "metadata": {},
     "output_type": "execute_result"
    }
   ],
   "source": [
    "np.sort(arr, axis=0)"
   ]
  },
  {
   "cell_type": "code",
   "execution_count": 32,
   "metadata": {},
   "outputs": [
    {
     "data": {
      "text/plain": [
       "array([[-1.10155836, -0.56107036,  0.92338016],\n",
       "       [-1.95950902, -0.51974942,  0.98788256],\n",
       "       [-0.00285286,  0.45026765,  1.7950933 ],\n",
       "       [-0.21026694,  0.60826436,  1.07947693],\n",
       "       [-1.31269416,  1.02261858,  1.21754931]])"
      ]
     },
     "execution_count": 32,
     "metadata": {},
     "output_type": "execute_result"
    }
   ],
   "source": [
    "np.sort(arr, axis=1)"
   ]
  },
  {
   "cell_type": "code",
   "execution_count": 33,
   "metadata": {},
   "outputs": [],
   "source": [
    "large_arr = np.random.randn(150)"
   ]
  },
  {
   "cell_type": "code",
   "execution_count": 34,
   "metadata": {},
   "outputs": [
    {
     "data": {
      "text/plain": [
       "array([-1.0132457 ,  1.09722644,  1.38144907, -0.80596779,  1.53858115,\n",
       "       -1.11765328, -0.95204119, -0.7164978 ,  1.95594057, -0.33401248,\n",
       "       -0.08656563, -1.07769608, -0.8079785 , -2.08846863, -1.32224732,\n",
       "        1.88772281,  0.00756641,  1.8266835 , -1.08405696, -0.26294196,\n",
       "        0.33307822,  1.82953826,  2.30737956,  0.78255287,  1.22162172,\n",
       "       -0.69389724,  0.57007839, -0.51561396, -0.94123238,  1.1409234 ,\n",
       "       -0.19584529,  1.65143297, -0.84581563, -0.36262692,  0.52447603,\n",
       "       -0.03410915, -1.24942857,  1.54384011,  0.16070386,  0.35474212,\n",
       "        0.82098169, -1.57291949, -0.61170085,  0.72029062, -0.59128765,\n",
       "       -0.42690899,  0.5820739 , -0.95496166, -0.09642172,  0.42072059,\n",
       "        0.16829213, -1.05754154,  0.48577886,  0.21143868,  0.49182125,\n",
       "       -0.72637339,  1.7801858 , -1.05291509,  1.03849563, -0.94836642,\n",
       "        0.24759319, -1.05159027, -0.1875073 ,  1.01250467,  1.08651365,\n",
       "       -1.56852999, -0.90164781, -1.61654475,  0.53386811,  1.03198277,\n",
       "        0.81669271,  0.40796854,  1.00380704,  0.62998668, -1.34242948,\n",
       "       -0.6526311 , -0.86454359,  1.60583485,  0.97534103, -1.48683689,\n",
       "        0.99890083,  0.75535989,  0.12188638,  1.79162311, -0.56033712,\n",
       "        0.59106731,  0.12049654,  0.53396696, -0.52023266,  1.84292279,\n",
       "       -0.28913726, -1.12083107,  0.02578561, -1.1255358 , -1.07516695,\n",
       "        1.20515889, -1.63039983,  1.45359617,  0.13837628,  1.13351158,\n",
       "       -1.06894409, -0.24667868, -1.09772057,  0.03555348,  0.40630221,\n",
       "        1.46303126,  1.02315204, -0.93351498, -0.88741813,  0.0720268 ,\n",
       "       -0.55660202, -0.26672388,  0.61411477,  1.00228036, -0.94147941,\n",
       "       -1.37297687, -1.06149216, -0.02587023,  0.45319445, -0.69304977,\n",
       "        0.87082818,  1.39910928, -1.04987925,  1.46358316,  1.66839764,\n",
       "       -0.66893473,  1.44256622,  0.63733314,  2.16276283,  1.20017374,\n",
       "       -0.35622711,  0.36811635,  0.62954568,  0.73778809, -0.03110897,\n",
       "       -1.85758793,  2.85577152,  0.85198695, -0.50821809, -1.39593608,\n",
       "        0.54879388,  0.14304977,  0.46901168, -0.21762655, -0.78783464,\n",
       "        0.36397264,  0.4772928 , -1.0538752 , -2.23437833, -0.04283523])"
      ]
     },
     "execution_count": 34,
     "metadata": {},
     "output_type": "execute_result"
    }
   ],
   "source": [
    "large_arr"
   ]
  },
  {
   "cell_type": "code",
   "execution_count": 35,
   "metadata": {},
   "outputs": [
    {
     "data": {
      "text/plain": [
       "array([ 2.85577152,  2.30737956,  2.16276283,  1.95594057,  1.88772281,\n",
       "        1.84292279,  1.82953826,  1.8266835 ,  1.79162311,  1.7801858 ,\n",
       "        1.66839764,  1.65143297,  1.60583485,  1.54384011,  1.53858115,\n",
       "        1.46358316,  1.46303126,  1.45359617,  1.44256622,  1.39910928,\n",
       "        1.38144907,  1.22162172,  1.20515889,  1.20017374,  1.1409234 ,\n",
       "        1.13351158,  1.09722644,  1.08651365,  1.03849563,  1.03198277,\n",
       "        1.02315204,  1.01250467,  1.00380704,  1.00228036,  0.99890083,\n",
       "        0.97534103,  0.87082818,  0.85198695,  0.82098169,  0.81669271,\n",
       "        0.78255287,  0.75535989,  0.73778809,  0.72029062,  0.63733314,\n",
       "        0.62998668,  0.62954568,  0.61411477,  0.59106731,  0.5820739 ,\n",
       "        0.57007839,  0.54879388,  0.53396696,  0.53386811,  0.52447603,\n",
       "        0.49182125,  0.48577886,  0.4772928 ,  0.46901168,  0.45319445,\n",
       "        0.42072059,  0.40796854,  0.40630221,  0.36811635,  0.36397264,\n",
       "        0.35474212,  0.33307822,  0.24759319,  0.21143868,  0.16829213,\n",
       "        0.16070386,  0.14304977,  0.13837628,  0.12188638,  0.12049654,\n",
       "        0.0720268 ,  0.03555348,  0.02578561,  0.00756641, -0.02587023,\n",
       "       -0.03110897, -0.03410915, -0.04283523, -0.08656563, -0.09642172,\n",
       "       -0.1875073 , -0.19584529, -0.21762655, -0.24667868, -0.26294196,\n",
       "       -0.26672388, -0.28913726, -0.33401248, -0.35622711, -0.36262692,\n",
       "       -0.42690899, -0.50821809, -0.51561396, -0.52023266, -0.55660202,\n",
       "       -0.56033712, -0.59128765, -0.61170085, -0.6526311 , -0.66893473,\n",
       "       -0.69304977, -0.69389724, -0.7164978 , -0.72637339, -0.78783464,\n",
       "       -0.80596779, -0.8079785 , -0.84581563, -0.86454359, -0.88741813,\n",
       "       -0.90164781, -0.93351498, -0.94123238, -0.94147941, -0.94836642,\n",
       "       -0.95204119, -0.95496166, -1.0132457 , -1.04987925, -1.05159027,\n",
       "       -1.05291509, -1.0538752 , -1.05754154, -1.06149216, -1.06894409,\n",
       "       -1.07516695, -1.07769608, -1.08405696, -1.09772057, -1.11765328,\n",
       "       -1.12083107, -1.1255358 , -1.24942857, -1.32224732, -1.34242948,\n",
       "       -1.37297687, -1.39593608, -1.48683689, -1.56852999, -1.57291949,\n",
       "       -1.61654475, -1.63039983, -1.85758793, -2.08846863, -2.23437833])"
      ]
     },
     "execution_count": 35,
     "metadata": {},
     "output_type": "execute_result"
    }
   ],
   "source": [
    "np.sort(large_arr)[::-1]"
   ]
  },
  {
   "cell_type": "code",
   "execution_count": 36,
   "metadata": {},
   "outputs": [
    {
     "data": {
      "text/plain": [
       "1.8266835041111997"
      ]
     },
     "execution_count": 36,
     "metadata": {},
     "output_type": "execute_result"
    }
   ],
   "source": [
    "np.sort(large_arr)[::-1][int(0.05 * len(large_arr))]"
   ]
  },
  {
   "cell_type": "code",
   "execution_count": 39,
   "metadata": {},
   "outputs": [],
   "source": [
    "names = np.array([\"A\", \"A\", \"B\", \"A\", \"C\"])"
   ]
  },
  {
   "cell_type": "code",
   "execution_count": 40,
   "metadata": {},
   "outputs": [
    {
     "data": {
      "text/plain": [
       "array(['A', 'B', 'C'], dtype='<U1')"
      ]
     },
     "execution_count": 40,
     "metadata": {},
     "output_type": "execute_result"
    }
   ],
   "source": [
    "np.unique(names)"
   ]
  },
  {
   "cell_type": "code",
   "execution_count": 41,
   "metadata": {},
   "outputs": [],
   "source": [
    "inta = np.array([1,1,1,2,3,1,1,2,3])"
   ]
  },
  {
   "cell_type": "code",
   "execution_count": 42,
   "metadata": {},
   "outputs": [
    {
     "data": {
      "text/plain": [
       "array([1, 2, 3])"
      ]
     },
     "execution_count": 42,
     "metadata": {},
     "output_type": "execute_result"
    }
   ],
   "source": [
    "np.unique(inta)"
   ]
  }
 ],
 "metadata": {
  "kernelspec": {
   "display_name": "Python 3",
   "language": "python",
   "name": "python3"
  },
  "language_info": {
   "codemirror_mode": {
    "name": "ipython",
    "version": 3
   },
   "file_extension": ".py",
   "mimetype": "text/x-python",
   "name": "python",
   "nbconvert_exporter": "python",
   "pygments_lexer": "ipython3",
   "version": "3.6.4"
  }
 },
 "nbformat": 4,
 "nbformat_minor": 2
}
