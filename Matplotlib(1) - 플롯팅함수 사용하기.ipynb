{
 "cells": [
  {
   "cell_type": "code",
   "execution_count": 36,
   "metadata": {},
   "outputs": [],
   "source": [
    "# 가장 많이 사용: 라인플롯, 바 플롯, 히스토 플롯, 산점도\n",
    "%matplotlib inline"
   ]
  },
  {
   "cell_type": "code",
   "execution_count": 37,
   "metadata": {},
   "outputs": [],
   "source": [
    "import matplotlib\n",
    "import matplotlib.pyplot as plt\n",
    "import pandas as pd\n",
    "import numpy as np"
   ]
  },
  {
   "cell_type": "code",
   "execution_count": 38,
   "metadata": {},
   "outputs": [],
   "source": [
    "s = pd.Series(np.random.randn(10).cumsum(), index=np.arange(0,100, 10))"
   ]
  },
  {
   "cell_type": "code",
   "execution_count": 39,
   "metadata": {},
   "outputs": [
    {
     "data": {
      "text/plain": [
       "0    -0.742917\n",
       "10   -1.632110\n",
       "20   -0.926736\n",
       "30   -2.390380\n",
       "40   -1.967300\n",
       "50   -1.184641\n",
       "60   -1.566544\n",
       "70   -1.562055\n",
       "80   -3.513372\n",
       "90   -2.704717\n",
       "dtype: float64"
      ]
     },
     "execution_count": 39,
     "metadata": {},
     "output_type": "execute_result"
    }
   ],
   "source": [
    "s"
   ]
  },
  {
   "cell_type": "code",
   "execution_count": 40,
   "metadata": {},
   "outputs": [
    {
     "data": {
      "image/png": "[encoded data removed]",
      "text/plain": [
       "<matplotlib.figure.Figure at 0xa0d10e5cc0>"
      ]
     },
     "metadata": {},
     "output_type": "display_data"
    }
   ],
   "source": [
    "s.plot();"
   ]
  },
  {
   "cell_type": "code",
   "execution_count": 41,
   "metadata": {},
   "outputs": [],
   "source": [
    "df = pd.DataFrame(np.random.randn(10, 4).cumsum(axis=0),\n",
    "                 columns = ['A', 'B', 'C', 'D'],\n",
    "                 index = np.arange(0, 100, 10))"
   ]
  },
  {
   "cell_type": "code",
   "execution_count": 42,
   "metadata": {},
   "outputs": [
    {
     "data": {
      "text/html": [
       "<div>\n",
       "<style scoped>\n",
       "    .dataframe tbody tr th:only-of-type {\n",
       "        vertical-align: middle;\n",
       "    }\n",
       "\n",
       "    .dataframe tbody tr th {\n",
       "        vertical-align: top;\n",
       "    }\n",
       "\n",
       "    .dataframe thead th {\n",
       "        text-align: right;\n",
       "    }\n",
       "</style>\n",
       "<table border=\"1\" class=\"dataframe\">\n",
       "  <thead>\n",
       "    <tr style=\"text-align: right;\">\n",
       "      <th></th>\n",
       "      <th>A</th>\n",
       "      <th>B</th>\n",
       "      <th>C</th>\n",
       "      <th>D</th>\n",
       "    </tr>\n",
       "  </thead>\n",
       "  <tbody>\n",
       "    <tr>\n",
       "      <th>0</th>\n",
       "      <td>0.183378</td>\n",
       "      <td>0.080668</td>\n",
       "      <td>-1.197774</td>\n",
       "      <td>0.888936</td>\n",
       "    </tr>\n",
       "    <tr>\n",
       "      <th>10</th>\n",
       "      <td>0.526959</td>\n",
       "      <td>-0.956636</td>\n",
       "      <td>-1.171594</td>\n",
       "      <td>1.441972</td>\n",
       "    </tr>\n",
       "    <tr>\n",
       "      <th>20</th>\n",
       "      <td>-2.000593</td>\n",
       "      <td>-1.306419</td>\n",
       "      <td>-0.023225</td>\n",
       "      <td>2.287391</td>\n",
       "    </tr>\n",
       "    <tr>\n",
       "      <th>30</th>\n",
       "      <td>-2.826706</td>\n",
       "      <td>-1.690038</td>\n",
       "      <td>0.083734</td>\n",
       "      <td>3.335995</td>\n",
       "    </tr>\n",
       "    <tr>\n",
       "      <th>40</th>\n",
       "      <td>-3.581496</td>\n",
       "      <td>-2.756442</td>\n",
       "      <td>-1.303611</td>\n",
       "      <td>3.242615</td>\n",
       "    </tr>\n",
       "    <tr>\n",
       "      <th>50</th>\n",
       "      <td>-4.060448</td>\n",
       "      <td>-3.314731</td>\n",
       "      <td>-0.483537</td>\n",
       "      <td>3.675835</td>\n",
       "    </tr>\n",
       "    <tr>\n",
       "      <th>60</th>\n",
       "      <td>-5.099380</td>\n",
       "      <td>-2.969133</td>\n",
       "      <td>-0.576722</td>\n",
       "      <td>2.820031</td>\n",
       "    </tr>\n",
       "    <tr>\n",
       "      <th>70</th>\n",
       "      <td>-4.044141</td>\n",
       "      <td>-4.263683</td>\n",
       "      <td>-0.191719</td>\n",
       "      <td>1.022574</td>\n",
       "    </tr>\n",
       "    <tr>\n",
       "      <th>80</th>\n",
       "      <td>-4.434606</td>\n",
       "      <td>-2.746046</td>\n",
       "      <td>-1.682613</td>\n",
       "      <td>0.335859</td>\n",
       "    </tr>\n",
       "    <tr>\n",
       "      <th>90</th>\n",
       "      <td>-3.959466</td>\n",
       "      <td>-1.690939</td>\n",
       "      <td>-0.836545</td>\n",
       "      <td>1.709482</td>\n",
       "    </tr>\n",
       "  </tbody>\n",
       "</table>\n",
       "</div>"
      ],
      "text/plain": [
       "           A         B         C         D\n",
       "0   0.183378  0.080668 -1.197774  0.888936\n",
       "10  0.526959 -0.956636 -1.171594  1.441972\n",
       "20 -2.000593 -1.306419 -0.023225  2.287391\n",
       "30 -2.826706 -1.690038  0.083734  3.335995\n",
       "40 -3.581496 -2.756442 -1.303611  3.242615\n",
       "50 -4.060448 -3.314731 -0.483537  3.675835\n",
       "60 -5.099380 -2.969133 -0.576722  2.820031\n",
       "70 -4.044141 -4.263683 -0.191719  1.022574\n",
       "80 -4.434606 -2.746046 -1.682613  0.335859\n",
       "90 -3.959466 -1.690939 -0.836545  1.709482"
      ]
     },
     "execution_count": 42,
     "metadata": {},
     "output_type": "execute_result"
    }
   ],
   "source": [
    "df"
   ]
  },
  {
   "cell_type": "code",
   "execution_count": 43,
   "metadata": {},
   "outputs": [
    {
     "data": {
      "text/plain": [
       "<matplotlib.axes._subplots.AxesSubplot at 0xa0d21126a0>"
      ]
     },
     "execution_count": 43,
     "metadata": {},
     "output_type": "execute_result"
    },
    {
     "data": {
      "image/png": "[encoded data removed]",
      "text/plain": [
       "<matplotlib.figure.Figure at 0xa0d292b5c0>"
      ]
     },
     "metadata": {},
     "output_type": "display_data"
    }
   ],
   "source": [
    "df.plot()"
   ]
  },
  {
   "cell_type": "code",
   "execution_count": 44,
   "metadata": {},
   "outputs": [
    {
     "data": {
      "text/plain": [
       "<matplotlib.axes._subplots.AxesSubplot at 0xa0d28c5748>"
      ]
     },
     "execution_count": 44,
     "metadata": {},
     "output_type": "execute_result"
    },
    {
     "data": {
      "image/png": "[encoded data removed]",
      "text/plain": [
       "<matplotlib.figure.Figure at 0xa0d290d2e8>"
      ]
     },
     "metadata": {},
     "output_type": "display_data"
    }
   ],
   "source": [
    "df[\"B\"].plot()"
   ]
  },
  {
   "cell_type": "code",
   "execution_count": 45,
   "metadata": {},
   "outputs": [],
   "source": [
    "s2 = pd.Series(np.random.rand(16), index = list(\"abcdefghijklmnop\"))"
   ]
  },
  {
   "cell_type": "code",
   "execution_count": 46,
   "metadata": {},
   "outputs": [
    {
     "data": {
      "text/plain": [
       "a    0.070647\n",
       "b    0.726715\n",
       "c    0.708106\n",
       "d    0.883391\n",
       "e    0.472205\n",
       "f    0.761131\n",
       "g    0.438320\n",
       "h    0.915730\n",
       "i    0.538107\n",
       "j    0.622721\n",
       "k    0.300779\n",
       "l    0.311582\n",
       "m    0.686963\n",
       "n    0.076142\n",
       "o    0.432392\n",
       "p    0.549315\n",
       "dtype: float64"
      ]
     },
     "execution_count": 46,
     "metadata": {},
     "output_type": "execute_result"
    }
   ],
   "source": [
    "s2"
   ]
  },
  {
   "cell_type": "code",
   "execution_count": 49,
   "metadata": {},
   "outputs": [
    {
     "data": {
      "text/plain": [
       "<matplotlib.axes._subplots.AxesSubplot at 0xa0d243b978>"
      ]
     },
     "execution_count": 49,
     "metadata": {},
     "output_type": "execute_result"
    },
    {
     "data": {
      "image/png": "[encoded data removed]",
      "text/plain": [
       "<matplotlib.figure.Figure at 0xa0d23792b0>"
      ]
     },
     "metadata": {},
     "output_type": "display_data"
    }
   ],
   "source": [
    "s2.plot(kind = 'bar')"
   ]
  },
  {
   "cell_type": "code",
   "execution_count": 50,
   "metadata": {},
   "outputs": [
    {
     "data": {
      "text/plain": [
       "<matplotlib.axes._subplots.AxesSubplot at 0xa0d292b1d0>"
      ]
     },
     "execution_count": 50,
     "metadata": {},
     "output_type": "execute_result"
    },
    {
     "data": {
      "image/png": "[encoded data removed]",
      "text/plain": [
       "<matplotlib.figure.Figure at 0xa0d24830f0>"
      ]
     },
     "metadata": {},
     "output_type": "display_data"
    }
   ],
   "source": [
    "s2.plot(kind = 'barh')"
   ]
  },
  {
   "cell_type": "code",
   "execution_count": 63,
   "metadata": {},
   "outputs": [],
   "source": [
    "df2 = pd.DataFrame(np.random.rand(6, 4),\n",
    "                                  index = ['one', 'two', 'three', 'four', 'five', 'six'],\n",
    "                                  columns = pd.Index(['A', 'B', 'C', 'D'], name='genus'))"
   ]
  },
  {
   "cell_type": "code",
   "execution_count": 64,
   "metadata": {},
   "outputs": [
    {
     "data": {
      "text/html": [
       "<div>\n",
       "<style scoped>\n",
       "    .dataframe tbody tr th:only-of-type {\n",
       "        vertical-align: middle;\n",
       "    }\n",
       "\n",
       "    .dataframe tbody tr th {\n",
       "        vertical-align: top;\n",
       "    }\n",
       "\n",
       "    .dataframe thead th {\n",
       "        text-align: right;\n",
       "    }\n",
       "</style>\n",
       "<table border=\"1\" class=\"dataframe\">\n",
       "  <thead>\n",
       "    <tr style=\"text-align: right;\">\n",
       "      <th>genus</th>\n",
       "      <th>A</th>\n",
       "      <th>B</th>\n",
       "      <th>C</th>\n",
       "      <th>D</th>\n",
       "    </tr>\n",
       "  </thead>\n",
       "  <tbody>\n",
       "    <tr>\n",
       "      <th>one</th>\n",
       "      <td>0.898865</td>\n",
       "      <td>0.607255</td>\n",
       "      <td>0.884483</td>\n",
       "      <td>0.879596</td>\n",
       "    </tr>\n",
       "    <tr>\n",
       "      <th>two</th>\n",
       "      <td>0.832145</td>\n",
       "      <td>0.317424</td>\n",
       "      <td>0.590911</td>\n",
       "      <td>0.122398</td>\n",
       "    </tr>\n",
       "    <tr>\n",
       "      <th>three</th>\n",
       "      <td>0.474283</td>\n",
       "      <td>0.019064</td>\n",
       "      <td>0.761236</td>\n",
       "      <td>0.261966</td>\n",
       "    </tr>\n",
       "    <tr>\n",
       "      <th>four</th>\n",
       "      <td>0.133809</td>\n",
       "      <td>0.745823</td>\n",
       "      <td>0.551467</td>\n",
       "      <td>0.126640</td>\n",
       "    </tr>\n",
       "    <tr>\n",
       "      <th>five</th>\n",
       "      <td>0.946740</td>\n",
       "      <td>0.944267</td>\n",
       "      <td>0.933863</td>\n",
       "      <td>0.734853</td>\n",
       "    </tr>\n",
       "    <tr>\n",
       "      <th>six</th>\n",
       "      <td>0.050658</td>\n",
       "      <td>0.935050</td>\n",
       "      <td>0.545387</td>\n",
       "      <td>0.341273</td>\n",
       "    </tr>\n",
       "  </tbody>\n",
       "</table>\n",
       "</div>"
      ],
      "text/plain": [
       "genus         A         B         C         D\n",
       "one    0.898865  0.607255  0.884483  0.879596\n",
       "two    0.832145  0.317424  0.590911  0.122398\n",
       "three  0.474283  0.019064  0.761236  0.261966\n",
       "four   0.133809  0.745823  0.551467  0.126640\n",
       "five   0.946740  0.944267  0.933863  0.734853\n",
       "six    0.050658  0.935050  0.545387  0.341273"
      ]
     },
     "execution_count": 64,
     "metadata": {},
     "output_type": "execute_result"
    }
   ],
   "source": [
    "df2"
   ]
  },
  {
   "cell_type": "code",
   "execution_count": 65,
   "metadata": {},
   "outputs": [
    {
     "data": {
      "text/plain": [
       "<matplotlib.axes._subplots.AxesSubplot at 0xa0d3b65278>"
      ]
     },
     "execution_count": 65,
     "metadata": {},
     "output_type": "execute_result"
    },
    {
     "data": {
      "image/png": "[encoded data removed]",
      "text/plain": [
       "<matplotlib.figure.Figure at 0xa0d3bd63c8>"
      ]
     },
     "metadata": {},
     "output_type": "display_data"
    }
   ],
   "source": [
    "df2.plot(kind='bar')"
   ]
  },
  {
   "cell_type": "code",
   "execution_count": 66,
   "metadata": {},
   "outputs": [
    {
     "data": {
      "text/plain": [
       "<matplotlib.axes._subplots.AxesSubplot at 0xa0d3c55828>"
      ]
     },
     "execution_count": 66,
     "metadata": {},
     "output_type": "execute_result"
    },
    {
     "data": {
      "image/png": "[encoded data removed]",
      "text/plain": [
       "<matplotlib.figure.Figure at 0xa0d3c09898>"
      ]
     },
     "metadata": {},
     "output_type": "display_data"
    }
   ],
   "source": [
    "df2.plot(kind = 'barh', stacked=True)"
   ]
  },
  {
   "cell_type": "code",
   "execution_count": 82,
   "metadata": {},
   "outputs": [],
   "source": [
    "s3 = pd.Series(np.random.normal(0, 1, size=10000))"
   ]
  },
  {
   "cell_type": "code",
   "execution_count": 83,
   "metadata": {},
   "outputs": [
    {
     "data": {
      "text/plain": [
       "<matplotlib.axes._subplots.AxesSubplot at 0xa0d436e518>"
      ]
     },
     "execution_count": 83,
     "metadata": {},
     "output_type": "execute_result"
    },
    {
     "data": {
      "image/png": "[encoded data removed]",
      "text/plain": [
       "<matplotlib.figure.Figure at 0xa0d3bda2e8>"
      ]
     },
     "metadata": {},
     "output_type": "display_data"
    }
   ],
   "source": [
    "s3.hist(bins=100)"
   ]
  },
  {
   "cell_type": "code",
   "execution_count": 84,
   "metadata": {},
   "outputs": [
    {
     "data": {
      "text/plain": [
       "<matplotlib.axes._subplots.AxesSubplot at 0xa0d449c630>"
      ]
     },
     "execution_count": 84,
     "metadata": {},
     "output_type": "execute_result"
    },
    {
     "data": {
      "image/png": "[encoded data removed]",
      "text/plain": [
       "<matplotlib.figure.Figure at 0xa0d4579748>"
      ]
     },
     "metadata": {},
     "output_type": "display_data"
    }
   ],
   "source": [
    "s3.hist(bins=100, normed=True)"
   ]
  },
  {
   "cell_type": "code",
   "execution_count": 85,
   "metadata": {},
   "outputs": [],
   "source": [
    "s3 = pd.Series(np.random.normal(0, 1, size=100000))"
   ]
  },
  {
   "cell_type": "code",
   "execution_count": 86,
   "metadata": {},
   "outputs": [
    {
     "data": {
      "text/plain": [
       "<matplotlib.axes._subplots.AxesSubplot at 0xa0d461d898>"
      ]
     },
     "execution_count": 86,
     "metadata": {},
     "output_type": "execute_result"
    },
    {
     "data": {
      "image/png": "[encoded data removed]",
      "text/plain": [
       "<matplotlib.figure.Figure at 0xa0d45d3dd8>"
      ]
     },
     "metadata": {},
     "output_type": "display_data"
    }
   ],
   "source": [
    "s3.hist(bins=100)"
   ]
  },
  {
   "cell_type": "code",
   "execution_count": 91,
   "metadata": {},
   "outputs": [],
   "source": [
    "s3 = pd.Series(np.random.normal(0, 1, size=1000000))"
   ]
  },
  {
   "cell_type": "code",
   "execution_count": 93,
   "metadata": {},
   "outputs": [
    {
     "data": {
      "text/plain": [
       "<matplotlib.axes._subplots.AxesSubplot at 0xa0d5495c18>"
      ]
     },
     "execution_count": 93,
     "metadata": {},
     "output_type": "execute_result"
    },
    {
     "data": {
      "image/png": "[encoded data removed]",
      "text/plain": [
       "<matplotlib.figure.Figure at 0xa0d4c9c710>"
      ]
     },
     "metadata": {},
     "output_type": "display_data"
    }
   ],
   "source": [
    "s3.hist(bins=1000)"
   ]
  },
  {
   "cell_type": "code",
   "execution_count": 94,
   "metadata": {},
   "outputs": [],
   "source": [
    "x1 = np.random.normal(1, 1, size=(100, 1))\n",
    "x2 = np.random.normal(-2, 4, size = (100, 1))\n",
    "x = np.concatenate((x1, x2), axis=1)"
   ]
  },
  {
   "cell_type": "code",
   "execution_count": 96,
   "metadata": {},
   "outputs": [
    {
     "data": {
      "text/plain": [
       "array([[ 1.92739767e+00, -6.23969642e+00],\n",
       "       [ 1.72171153e+00, -8.23365503e+00],\n",
       "       [-1.05836947e+00, -4.94285672e+00],\n",
       "       [-5.83367277e-01, -5.38444377e+00],\n",
       "       [ 8.06200748e-01,  1.63247262e+00],\n",
       "       [ 1.14850657e-01, -2.42279098e+00],\n",
       "       [ 6.98601307e-01, -8.30845129e-02],\n",
       "       [ 1.88942745e+00, -5.15846948e+00],\n",
       "       [-1.05237343e+00,  2.18556382e+00],\n",
       "       [-2.09773461e-01,  4.57675955e+00],\n",
       "       [-4.31249825e-01, -2.81832691e+00],\n",
       "       [ 1.80312782e+00, -9.72234666e+00],\n",
       "       [-7.52981621e-01, -5.42406433e+00],\n",
       "       [ 9.59175811e-01, -7.08465526e+00],\n",
       "       [ 1.02289440e+00, -3.40907325e+00],\n",
       "       [ 3.14856102e-01, -1.26433114e+00],\n",
       "       [ 6.61842893e-01, -1.78316660e+00],\n",
       "       [-1.26862752e+00, -2.11712759e+00],\n",
       "       [ 4.87591912e-01, -9.62316485e+00],\n",
       "       [ 1.40722643e+00,  5.92274754e+00],\n",
       "       [ 2.17467838e+00,  7.10228078e+00],\n",
       "       [ 6.07691086e-01, -6.52086882e-01],\n",
       "       [-5.81561163e-01, -6.93116139e+00],\n",
       "       [ 1.41796350e+00, -1.48432172e+00],\n",
       "       [-2.02002737e-01, -6.39643616e-01],\n",
       "       [ 1.27024511e+00, -6.84822298e+00],\n",
       "       [ 6.04997499e-01, -5.64675166e+00],\n",
       "       [ 1.20865044e+00, -2.16555876e-01],\n",
       "       [ 1.07436699e+00,  2.21194519e+00],\n",
       "       [ 1.58645771e-01, -1.76153408e+00],\n",
       "       [-4.72018144e-01, -9.28175920e-01],\n",
       "       [ 1.86611136e+00, -4.13742754e+00],\n",
       "       [-1.10151394e+00,  3.02340301e-02],\n",
       "       [-1.93855207e-01, -3.68104640e+00],\n",
       "       [ 1.24954946e+00, -4.10293895e+00],\n",
       "       [ 6.55915060e-01,  9.74806369e+00],\n",
       "       [-4.51970160e-01, -4.79540448e+00],\n",
       "       [-1.36665380e-01, -5.86433770e+00],\n",
       "       [ 1.87900630e+00,  1.34472768e+00],\n",
       "       [-6.60269453e-01, -1.09433857e+01],\n",
       "       [ 1.19963846e+00, -7.52576559e-01],\n",
       "       [ 1.43199072e+00, -4.86503655e+00],\n",
       "       [ 1.55455737e+00, -1.31725793e+00],\n",
       "       [ 7.49745565e-01, -1.08293634e+00],\n",
       "       [-2.57892357e-01, -6.61347166e+00],\n",
       "       [ 1.13506906e+00, -3.45737596e+00],\n",
       "       [ 1.38274652e+00, -9.21488745e+00],\n",
       "       [ 2.02975674e+00, -1.12408951e+00],\n",
       "       [ 1.18775061e+00,  3.09895172e+00],\n",
       "       [-1.54660201e-01, -3.60970901e+00],\n",
       "       [ 3.90760839e-01, -1.33562901e+00],\n",
       "       [ 1.01698028e+00,  4.42103927e-01],\n",
       "       [ 1.34804887e+00,  8.61990364e-01],\n",
       "       [ 1.88882016e+00, -1.16081156e+01],\n",
       "       [-5.75575425e-01, -8.60757371e+00],\n",
       "       [ 8.35695509e-01,  8.07924752e-01],\n",
       "       [ 3.13559226e+00,  1.55969490e+00],\n",
       "       [ 1.12450625e+00, -1.18952449e+00],\n",
       "       [ 3.39559728e+00,  2.28852537e+00],\n",
       "       [ 8.18278585e-01,  5.74812745e+00],\n",
       "       [ 2.81585522e+00,  6.18201058e-01],\n",
       "       [ 9.60815465e-02,  3.70837941e+00],\n",
       "       [ 6.33656060e-01, -9.81152568e-01],\n",
       "       [ 1.61774173e+00, -5.67851187e+00],\n",
       "       [ 1.57055926e+00, -6.92835989e+00],\n",
       "       [ 2.19788117e+00, -2.82595744e-01],\n",
       "       [ 3.79883229e+00,  3.70848186e-03],\n",
       "       [ 6.27599229e-01, -2.85416775e+00],\n",
       "       [-1.39794148e+00, -7.46468496e+00],\n",
       "       [ 2.77229415e+00, -3.72702044e+00],\n",
       "       [-1.11585646e-01,  3.89356706e+00],\n",
       "       [ 5.04204833e-01,  4.88681519e+00],\n",
       "       [ 1.51244576e-01,  1.72061751e+00],\n",
       "       [ 6.73314096e-01, -1.84695195e-01],\n",
       "       [-3.89767526e-01, -5.06329089e+00],\n",
       "       [ 7.45772775e-01,  1.15972525e+00],\n",
       "       [ 7.24570709e-01, -4.32627390e+00],\n",
       "       [ 6.22756163e-01,  3.79021386e+00],\n",
       "       [ 2.30042374e+00, -5.18591530e+00],\n",
       "       [ 1.87119155e+00, -7.52761319e+00],\n",
       "       [-7.97685205e-01,  4.76414201e-01],\n",
       "       [ 5.81531144e-01, -2.05826802e-02],\n",
       "       [ 6.98257538e-01, -9.55271273e+00],\n",
       "       [ 3.37277800e-01,  3.92722707e+00],\n",
       "       [ 2.02913230e+00, -5.75846302e+00],\n",
       "       [ 3.41059802e-01, -1.18787578e+01],\n",
       "       [ 9.13036827e-01, -1.19313939e+01],\n",
       "       [-1.42845695e+00, -3.25242312e-01],\n",
       "       [ 9.62017281e-01,  6.12398201e-01],\n",
       "       [ 9.92908046e-01, -5.52787174e+00],\n",
       "       [-5.08049165e-02, -7.93126913e-01],\n",
       "       [ 1.42718940e+00, -9.04482154e+00],\n",
       "       [ 1.49085648e+00, -1.97858864e-01],\n",
       "       [ 2.29991556e+00, -3.43983863e+00],\n",
       "       [ 1.17019685e+00, -6.27485063e+00],\n",
       "       [-6.92497599e-02, -1.68041769e-01],\n",
       "       [ 6.91305875e-01,  4.18857317e+00],\n",
       "       [ 1.32163625e+00, -2.80267594e-01],\n",
       "       [ 1.68565944e-01, -1.16707785e+01],\n",
       "       [ 5.27957753e-01, -1.20470743e-01]])"
      ]
     },
     "execution_count": 96,
     "metadata": {},
     "output_type": "execute_result"
    }
   ],
   "source": [
    "x"
   ]
  },
  {
   "cell_type": "code",
   "execution_count": 97,
   "metadata": {},
   "outputs": [],
   "source": [
    "df3 = pd.DataFrame(x, columns=['x1', 'x2'])"
   ]
  },
  {
   "cell_type": "code",
   "execution_count": 98,
   "metadata": {},
   "outputs": [
    {
     "data": {
      "text/html": [
       "<div>\n",
       "<style scoped>\n",
       "    .dataframe tbody tr th:only-of-type {\n",
       "        vertical-align: middle;\n",
       "    }\n",
       "\n",
       "    .dataframe tbody tr th {\n",
       "        vertical-align: top;\n",
       "    }\n",
       "\n",
       "    .dataframe thead th {\n",
       "        text-align: right;\n",
       "    }\n",
       "</style>\n",
       "<table border=\"1\" class=\"dataframe\">\n",
       "  <thead>\n",
       "    <tr style=\"text-align: right;\">\n",
       "      <th></th>\n",
       "      <th>x1</th>\n",
       "      <th>x2</th>\n",
       "    </tr>\n",
       "  </thead>\n",
       "  <tbody>\n",
       "    <tr>\n",
       "      <th>0</th>\n",
       "      <td>1.927398</td>\n",
       "      <td>-6.239696</td>\n",
       "    </tr>\n",
       "    <tr>\n",
       "      <th>1</th>\n",
       "      <td>1.721712</td>\n",
       "      <td>-8.233655</td>\n",
       "    </tr>\n",
       "    <tr>\n",
       "      <th>2</th>\n",
       "      <td>-1.058369</td>\n",
       "      <td>-4.942857</td>\n",
       "    </tr>\n",
       "    <tr>\n",
       "      <th>3</th>\n",
       "      <td>-0.583367</td>\n",
       "      <td>-5.384444</td>\n",
       "    </tr>\n",
       "    <tr>\n",
       "      <th>4</th>\n",
       "      <td>0.806201</td>\n",
       "      <td>1.632473</td>\n",
       "    </tr>\n",
       "    <tr>\n",
       "      <th>5</th>\n",
       "      <td>0.114851</td>\n",
       "      <td>-2.422791</td>\n",
       "    </tr>\n",
       "    <tr>\n",
       "      <th>6</th>\n",
       "      <td>0.698601</td>\n",
       "      <td>-0.083085</td>\n",
       "    </tr>\n",
       "    <tr>\n",
       "      <th>7</th>\n",
       "      <td>1.889427</td>\n",
       "      <td>-5.158469</td>\n",
       "    </tr>\n",
       "    <tr>\n",
       "      <th>8</th>\n",
       "      <td>-1.052373</td>\n",
       "      <td>2.185564</td>\n",
       "    </tr>\n",
       "    <tr>\n",
       "      <th>9</th>\n",
       "      <td>-0.209773</td>\n",
       "      <td>4.576760</td>\n",
       "    </tr>\n",
       "    <tr>\n",
       "      <th>10</th>\n",
       "      <td>-0.431250</td>\n",
       "      <td>-2.818327</td>\n",
       "    </tr>\n",
       "    <tr>\n",
       "      <th>11</th>\n",
       "      <td>1.803128</td>\n",
       "      <td>-9.722347</td>\n",
       "    </tr>\n",
       "    <tr>\n",
       "      <th>12</th>\n",
       "      <td>-0.752982</td>\n",
       "      <td>-5.424064</td>\n",
       "    </tr>\n",
       "    <tr>\n",
       "      <th>13</th>\n",
       "      <td>0.959176</td>\n",
       "      <td>-7.084655</td>\n",
       "    </tr>\n",
       "    <tr>\n",
       "      <th>14</th>\n",
       "      <td>1.022894</td>\n",
       "      <td>-3.409073</td>\n",
       "    </tr>\n",
       "    <tr>\n",
       "      <th>15</th>\n",
       "      <td>0.314856</td>\n",
       "      <td>-1.264331</td>\n",
       "    </tr>\n",
       "    <tr>\n",
       "      <th>16</th>\n",
       "      <td>0.661843</td>\n",
       "      <td>-1.783167</td>\n",
       "    </tr>\n",
       "    <tr>\n",
       "      <th>17</th>\n",
       "      <td>-1.268628</td>\n",
       "      <td>-2.117128</td>\n",
       "    </tr>\n",
       "    <tr>\n",
       "      <th>18</th>\n",
       "      <td>0.487592</td>\n",
       "      <td>-9.623165</td>\n",
       "    </tr>\n",
       "    <tr>\n",
       "      <th>19</th>\n",
       "      <td>1.407226</td>\n",
       "      <td>5.922748</td>\n",
       "    </tr>\n",
       "    <tr>\n",
       "      <th>20</th>\n",
       "      <td>2.174678</td>\n",
       "      <td>7.102281</td>\n",
       "    </tr>\n",
       "    <tr>\n",
       "      <th>21</th>\n",
       "      <td>0.607691</td>\n",
       "      <td>-0.652087</td>\n",
       "    </tr>\n",
       "    <tr>\n",
       "      <th>22</th>\n",
       "      <td>-0.581561</td>\n",
       "      <td>-6.931161</td>\n",
       "    </tr>\n",
       "    <tr>\n",
       "      <th>23</th>\n",
       "      <td>1.417963</td>\n",
       "      <td>-1.484322</td>\n",
       "    </tr>\n",
       "    <tr>\n",
       "      <th>24</th>\n",
       "      <td>-0.202003</td>\n",
       "      <td>-0.639644</td>\n",
       "    </tr>\n",
       "    <tr>\n",
       "      <th>25</th>\n",
       "      <td>1.270245</td>\n",
       "      <td>-6.848223</td>\n",
       "    </tr>\n",
       "    <tr>\n",
       "      <th>26</th>\n",
       "      <td>0.604997</td>\n",
       "      <td>-5.646752</td>\n",
       "    </tr>\n",
       "    <tr>\n",
       "      <th>27</th>\n",
       "      <td>1.208650</td>\n",
       "      <td>-0.216556</td>\n",
       "    </tr>\n",
       "    <tr>\n",
       "      <th>28</th>\n",
       "      <td>1.074367</td>\n",
       "      <td>2.211945</td>\n",
       "    </tr>\n",
       "    <tr>\n",
       "      <th>29</th>\n",
       "      <td>0.158646</td>\n",
       "      <td>-1.761534</td>\n",
       "    </tr>\n",
       "    <tr>\n",
       "      <th>...</th>\n",
       "      <td>...</td>\n",
       "      <td>...</td>\n",
       "    </tr>\n",
       "    <tr>\n",
       "      <th>70</th>\n",
       "      <td>-0.111586</td>\n",
       "      <td>3.893567</td>\n",
       "    </tr>\n",
       "    <tr>\n",
       "      <th>71</th>\n",
       "      <td>0.504205</td>\n",
       "      <td>4.886815</td>\n",
       "    </tr>\n",
       "    <tr>\n",
       "      <th>72</th>\n",
       "      <td>0.151245</td>\n",
       "      <td>1.720618</td>\n",
       "    </tr>\n",
       "    <tr>\n",
       "      <th>73</th>\n",
       "      <td>0.673314</td>\n",
       "      <td>-0.184695</td>\n",
       "    </tr>\n",
       "    <tr>\n",
       "      <th>74</th>\n",
       "      <td>-0.389768</td>\n",
       "      <td>-5.063291</td>\n",
       "    </tr>\n",
       "    <tr>\n",
       "      <th>75</th>\n",
       "      <td>0.745773</td>\n",
       "      <td>1.159725</td>\n",
       "    </tr>\n",
       "    <tr>\n",
       "      <th>76</th>\n",
       "      <td>0.724571</td>\n",
       "      <td>-4.326274</td>\n",
       "    </tr>\n",
       "    <tr>\n",
       "      <th>77</th>\n",
       "      <td>0.622756</td>\n",
       "      <td>3.790214</td>\n",
       "    </tr>\n",
       "    <tr>\n",
       "      <th>78</th>\n",
       "      <td>2.300424</td>\n",
       "      <td>-5.185915</td>\n",
       "    </tr>\n",
       "    <tr>\n",
       "      <th>79</th>\n",
       "      <td>1.871192</td>\n",
       "      <td>-7.527613</td>\n",
       "    </tr>\n",
       "    <tr>\n",
       "      <th>80</th>\n",
       "      <td>-0.797685</td>\n",
       "      <td>0.476414</td>\n",
       "    </tr>\n",
       "    <tr>\n",
       "      <th>81</th>\n",
       "      <td>0.581531</td>\n",
       "      <td>-0.020583</td>\n",
       "    </tr>\n",
       "    <tr>\n",
       "      <th>82</th>\n",
       "      <td>0.698258</td>\n",
       "      <td>-9.552713</td>\n",
       "    </tr>\n",
       "    <tr>\n",
       "      <th>83</th>\n",
       "      <td>0.337278</td>\n",
       "      <td>3.927227</td>\n",
       "    </tr>\n",
       "    <tr>\n",
       "      <th>84</th>\n",
       "      <td>2.029132</td>\n",
       "      <td>-5.758463</td>\n",
       "    </tr>\n",
       "    <tr>\n",
       "      <th>85</th>\n",
       "      <td>0.341060</td>\n",
       "      <td>-11.878758</td>\n",
       "    </tr>\n",
       "    <tr>\n",
       "      <th>86</th>\n",
       "      <td>0.913037</td>\n",
       "      <td>-11.931394</td>\n",
       "    </tr>\n",
       "    <tr>\n",
       "      <th>87</th>\n",
       "      <td>-1.428457</td>\n",
       "      <td>-0.325242</td>\n",
       "    </tr>\n",
       "    <tr>\n",
       "      <th>88</th>\n",
       "      <td>0.962017</td>\n",
       "      <td>0.612398</td>\n",
       "    </tr>\n",
       "    <tr>\n",
       "      <th>89</th>\n",
       "      <td>0.992908</td>\n",
       "      <td>-5.527872</td>\n",
       "    </tr>\n",
       "    <tr>\n",
       "      <th>90</th>\n",
       "      <td>-0.050805</td>\n",
       "      <td>-0.793127</td>\n",
       "    </tr>\n",
       "    <tr>\n",
       "      <th>91</th>\n",
       "      <td>1.427189</td>\n",
       "      <td>-9.044822</td>\n",
       "    </tr>\n",
       "    <tr>\n",
       "      <th>92</th>\n",
       "      <td>1.490856</td>\n",
       "      <td>-0.197859</td>\n",
       "    </tr>\n",
       "    <tr>\n",
       "      <th>93</th>\n",
       "      <td>2.299916</td>\n",
       "      <td>-3.439839</td>\n",
       "    </tr>\n",
       "    <tr>\n",
       "      <th>94</th>\n",
       "      <td>1.170197</td>\n",
       "      <td>-6.274851</td>\n",
       "    </tr>\n",
       "    <tr>\n",
       "      <th>95</th>\n",
       "      <td>-0.069250</td>\n",
       "      <td>-0.168042</td>\n",
       "    </tr>\n",
       "    <tr>\n",
       "      <th>96</th>\n",
       "      <td>0.691306</td>\n",
       "      <td>4.188573</td>\n",
       "    </tr>\n",
       "    <tr>\n",
       "      <th>97</th>\n",
       "      <td>1.321636</td>\n",
       "      <td>-0.280268</td>\n",
       "    </tr>\n",
       "    <tr>\n",
       "      <th>98</th>\n",
       "      <td>0.168566</td>\n",
       "      <td>-11.670779</td>\n",
       "    </tr>\n",
       "    <tr>\n",
       "      <th>99</th>\n",
       "      <td>0.527958</td>\n",
       "      <td>-0.120471</td>\n",
       "    </tr>\n",
       "  </tbody>\n",
       "</table>\n",
       "<p>100 rows × 2 columns</p>\n",
       "</div>"
      ],
      "text/plain": [
       "          x1         x2\n",
       "0   1.927398  -6.239696\n",
       "1   1.721712  -8.233655\n",
       "2  -1.058369  -4.942857\n",
       "3  -0.583367  -5.384444\n",
       "4   0.806201   1.632473\n",
       "5   0.114851  -2.422791\n",
       "6   0.698601  -0.083085\n",
       "7   1.889427  -5.158469\n",
       "8  -1.052373   2.185564\n",
       "9  -0.209773   4.576760\n",
       "10 -0.431250  -2.818327\n",
       "11  1.803128  -9.722347\n",
       "12 -0.752982  -5.424064\n",
       "13  0.959176  -7.084655\n",
       "14  1.022894  -3.409073\n",
       "15  0.314856  -1.264331\n",
       "16  0.661843  -1.783167\n",
       "17 -1.268628  -2.117128\n",
       "18  0.487592  -9.623165\n",
       "19  1.407226   5.922748\n",
       "20  2.174678   7.102281\n",
       "21  0.607691  -0.652087\n",
       "22 -0.581561  -6.931161\n",
       "23  1.417963  -1.484322\n",
       "24 -0.202003  -0.639644\n",
       "25  1.270245  -6.848223\n",
       "26  0.604997  -5.646752\n",
       "27  1.208650  -0.216556\n",
       "28  1.074367   2.211945\n",
       "29  0.158646  -1.761534\n",
       "..       ...        ...\n",
       "70 -0.111586   3.893567\n",
       "71  0.504205   4.886815\n",
       "72  0.151245   1.720618\n",
       "73  0.673314  -0.184695\n",
       "74 -0.389768  -5.063291\n",
       "75  0.745773   1.159725\n",
       "76  0.724571  -4.326274\n",
       "77  0.622756   3.790214\n",
       "78  2.300424  -5.185915\n",
       "79  1.871192  -7.527613\n",
       "80 -0.797685   0.476414\n",
       "81  0.581531  -0.020583\n",
       "82  0.698258  -9.552713\n",
       "83  0.337278   3.927227\n",
       "84  2.029132  -5.758463\n",
       "85  0.341060 -11.878758\n",
       "86  0.913037 -11.931394\n",
       "87 -1.428457  -0.325242\n",
       "88  0.962017   0.612398\n",
       "89  0.992908  -5.527872\n",
       "90 -0.050805  -0.793127\n",
       "91  1.427189  -9.044822\n",
       "92  1.490856  -0.197859\n",
       "93  2.299916  -3.439839\n",
       "94  1.170197  -6.274851\n",
       "95 -0.069250  -0.168042\n",
       "96  0.691306   4.188573\n",
       "97  1.321636  -0.280268\n",
       "98  0.168566 -11.670779\n",
       "99  0.527958  -0.120471\n",
       "\n",
       "[100 rows x 2 columns]"
      ]
     },
     "execution_count": 98,
     "metadata": {},
     "output_type": "execute_result"
    }
   ],
   "source": [
    "df3"
   ]
  },
  {
   "cell_type": "code",
   "execution_count": 99,
   "metadata": {},
   "outputs": [
    {
     "data": {
      "text/plain": [
       "<matplotlib.collections.PathCollection at 0xa0d739d400>"
      ]
     },
     "execution_count": 99,
     "metadata": {},
     "output_type": "execute_result"
    },
    {
     "data": {
      "image/png": "[encoded data removed]",
      "text/plain": [
       "<matplotlib.figure.Figure at 0xa0d588c400>"
      ]
     },
     "metadata": {},
     "output_type": "display_data"
    }
   ],
   "source": [
    "plt.scatter(df3['x1'], df3['x2'])"
   ]
  }
 ],
 "metadata": {
  "kernelspec": {
   "display_name": "Python 3",
   "language": "python",
   "name": "python3"
  },
  "language_info": {
   "codemirror_mode": {
    "name": "ipython",
    "version": 3
   },
   "file_extension": ".py",
   "mimetype": "text/x-python",
   "name": "python",
   "nbconvert_exporter": "python",
   "pygments_lexer": "ipython3",
   "version": "3.6.4"
  }
 },
 "nbformat": 4,
 "nbformat_minor": 2
}
