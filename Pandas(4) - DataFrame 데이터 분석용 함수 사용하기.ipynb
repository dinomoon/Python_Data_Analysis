{
 "cells": [
  {
   "cell_type": "code",
   "execution_count": 53,
   "metadata": {},
   "outputs": [],
   "source": [
    "import pandas as pd\n",
    "import numpy as np"
   ]
  },
  {
   "cell_type": "code",
   "execution_count": 54,
   "metadata": {},
   "outputs": [],
   "source": [
    "data = [[1.4, np.nan],\n",
    "       [7.1, -4.5],\n",
    "       [np.nan, np.nan],\n",
    "       [0.75, -1.3]]\n",
    "df = pd.DataFrame(data, columns = ['one', 'two'], index = ['a', 'b', 'c', 'd'])"
   ]
  },
  {
   "cell_type": "code",
   "execution_count": 55,
   "metadata": {},
   "outputs": [
    {
     "data": {
      "text/html": [
       "<div>\n",
       "<style scoped>\n",
       "    .dataframe tbody tr th:only-of-type {\n",
       "        vertical-align: middle;\n",
       "    }\n",
       "\n",
       "    .dataframe tbody tr th {\n",
       "        vertical-align: top;\n",
       "    }\n",
       "\n",
       "    .dataframe thead th {\n",
       "        text-align: right;\n",
       "    }\n",
       "</style>\n",
       "<table border=\"1\" class=\"dataframe\">\n",
       "  <thead>\n",
       "    <tr style=\"text-align: right;\">\n",
       "      <th></th>\n",
       "      <th>one</th>\n",
       "      <th>two</th>\n",
       "    </tr>\n",
       "  </thead>\n",
       "  <tbody>\n",
       "    <tr>\n",
       "      <th>a</th>\n",
       "      <td>1.40</td>\n",
       "      <td>NaN</td>\n",
       "    </tr>\n",
       "    <tr>\n",
       "      <th>b</th>\n",
       "      <td>7.10</td>\n",
       "      <td>-4.5</td>\n",
       "    </tr>\n",
       "    <tr>\n",
       "      <th>c</th>\n",
       "      <td>NaN</td>\n",
       "      <td>NaN</td>\n",
       "    </tr>\n",
       "    <tr>\n",
       "      <th>d</th>\n",
       "      <td>0.75</td>\n",
       "      <td>-1.3</td>\n",
       "    </tr>\n",
       "  </tbody>\n",
       "</table>\n",
       "</div>"
      ],
      "text/plain": [
       "    one  two\n",
       "a  1.40  NaN\n",
       "b  7.10 -4.5\n",
       "c   NaN  NaN\n",
       "d  0.75 -1.3"
      ]
     },
     "execution_count": 55,
     "metadata": {},
     "output_type": "execute_result"
    }
   ],
   "source": [
    "df"
   ]
  },
  {
   "cell_type": "code",
   "execution_count": 56,
   "metadata": {},
   "outputs": [
    {
     "data": {
      "text/plain": [
       "one    9.25\n",
       "two   -5.80\n",
       "dtype: float64"
      ]
     },
     "execution_count": 56,
     "metadata": {},
     "output_type": "execute_result"
    }
   ],
   "source": [
    "# 행 방향으로 합 구하기\n",
    "df.sum(axis=0)"
   ]
  },
  {
   "cell_type": "code",
   "execution_count": 57,
   "metadata": {},
   "outputs": [
    {
     "data": {
      "text/plain": [
       "a    1.40\n",
       "b    2.60\n",
       "c    0.00\n",
       "d   -0.55\n",
       "dtype: float64"
      ]
     },
     "execution_count": 57,
     "metadata": {},
     "output_type": "execute_result"
    }
   ],
   "source": [
    "# 열 방향으로 합 구하기\n",
    "df.sum(axis=1)"
   ]
  },
  {
   "cell_type": "code",
   "execution_count": 58,
   "metadata": {},
   "outputs": [
    {
     "data": {
      "text/plain": [
       "9.25"
      ]
     },
     "execution_count": 58,
     "metadata": {},
     "output_type": "execute_result"
    }
   ],
   "source": [
    "# 원하는 열의 합 구하기\n",
    "\n",
    "df['one'].sum()"
   ]
  },
  {
   "cell_type": "code",
   "execution_count": 59,
   "metadata": {},
   "outputs": [
    {
     "data": {
      "text/plain": [
       "2.5999999999999996"
      ]
     },
     "execution_count": 59,
     "metadata": {},
     "output_type": "execute_result"
    }
   ],
   "source": [
    "# 원하는 행의 합 구하기\n",
    "\n",
    "df.loc['b'].sum()"
   ]
  },
  {
   "cell_type": "code",
   "execution_count": 60,
   "metadata": {},
   "outputs": [
    {
     "data": {
      "text/plain": [
       "a      NaN\n",
       "b    1.300\n",
       "c      NaN\n",
       "d   -0.275\n",
       "dtype: float64"
      ]
     },
     "execution_count": 60,
     "metadata": {},
     "output_type": "execute_result"
    }
   ],
   "source": [
    "# NaN을 무시하지 않고 계산하기\n",
    "\n",
    "df.mean(axis=1, skipna=False)"
   ]
  },
  {
   "cell_type": "code",
   "execution_count": 61,
   "metadata": {
    "scrolled": true
   },
   "outputs": [
    {
     "data": {
      "text/html": [
       "<div>\n",
       "<style scoped>\n",
       "    .dataframe tbody tr th:only-of-type {\n",
       "        vertical-align: middle;\n",
       "    }\n",
       "\n",
       "    .dataframe tbody tr th {\n",
       "        vertical-align: top;\n",
       "    }\n",
       "\n",
       "    .dataframe thead th {\n",
       "        text-align: right;\n",
       "    }\n",
       "</style>\n",
       "<table border=\"1\" class=\"dataframe\">\n",
       "  <thead>\n",
       "    <tr style=\"text-align: right;\">\n",
       "      <th></th>\n",
       "      <th>one</th>\n",
       "      <th>two</th>\n",
       "    </tr>\n",
       "  </thead>\n",
       "  <tbody>\n",
       "    <tr>\n",
       "      <th>a</th>\n",
       "      <td>1.40</td>\n",
       "      <td>NaN</td>\n",
       "    </tr>\n",
       "    <tr>\n",
       "      <th>b</th>\n",
       "      <td>7.10</td>\n",
       "      <td>-4.5</td>\n",
       "    </tr>\n",
       "    <tr>\n",
       "      <th>c</th>\n",
       "      <td>NaN</td>\n",
       "      <td>NaN</td>\n",
       "    </tr>\n",
       "    <tr>\n",
       "      <th>d</th>\n",
       "      <td>0.75</td>\n",
       "      <td>-1.3</td>\n",
       "    </tr>\n",
       "  </tbody>\n",
       "</table>\n",
       "</div>"
      ],
      "text/plain": [
       "    one  two\n",
       "a  1.40  NaN\n",
       "b  7.10 -4.5\n",
       "c   NaN  NaN\n",
       "d  0.75 -1.3"
      ]
     },
     "execution_count": 61,
     "metadata": {},
     "output_type": "execute_result"
    }
   ],
   "source": [
    "df"
   ]
  },
  {
   "cell_type": "code",
   "execution_count": 62,
   "metadata": {},
   "outputs": [],
   "source": [
    "# NaN을 다른 값으로 대체하기\n",
    "\n",
    "one_mean = df.mean(axis=0)['one']"
   ]
  },
  {
   "cell_type": "code",
   "execution_count": 63,
   "metadata": {},
   "outputs": [],
   "source": [
    "two_min = df.min(axis=0)['two']"
   ]
  },
  {
   "cell_type": "code",
   "execution_count": 64,
   "metadata": {},
   "outputs": [
    {
     "data": {
      "text/plain": [
       "a    1.40\n",
       "b    7.10\n",
       "c     NaN\n",
       "d    0.75\n",
       "Name: one, dtype: float64"
      ]
     },
     "execution_count": 64,
     "metadata": {},
     "output_type": "execute_result"
    }
   ],
   "source": [
    "df['one']"
   ]
  },
  {
   "cell_type": "code",
   "execution_count": 65,
   "metadata": {},
   "outputs": [],
   "source": [
    "df['one'] = df['one'].fillna(value = one_mean)\n",
    "df['two'] = df['two'].fillna(value = two_min)"
   ]
  },
  {
   "cell_type": "code",
   "execution_count": 66,
   "metadata": {},
   "outputs": [
    {
     "data": {
      "text/html": [
       "<div>\n",
       "<style scoped>\n",
       "    .dataframe tbody tr th:only-of-type {\n",
       "        vertical-align: middle;\n",
       "    }\n",
       "\n",
       "    .dataframe tbody tr th {\n",
       "        vertical-align: top;\n",
       "    }\n",
       "\n",
       "    .dataframe thead th {\n",
       "        text-align: right;\n",
       "    }\n",
       "</style>\n",
       "<table border=\"1\" class=\"dataframe\">\n",
       "  <thead>\n",
       "    <tr style=\"text-align: right;\">\n",
       "      <th></th>\n",
       "      <th>one</th>\n",
       "      <th>two</th>\n",
       "    </tr>\n",
       "  </thead>\n",
       "  <tbody>\n",
       "    <tr>\n",
       "      <th>a</th>\n",
       "      <td>1.400000</td>\n",
       "      <td>-4.5</td>\n",
       "    </tr>\n",
       "    <tr>\n",
       "      <th>b</th>\n",
       "      <td>7.100000</td>\n",
       "      <td>-4.5</td>\n",
       "    </tr>\n",
       "    <tr>\n",
       "      <th>c</th>\n",
       "      <td>3.083333</td>\n",
       "      <td>-4.5</td>\n",
       "    </tr>\n",
       "    <tr>\n",
       "      <th>d</th>\n",
       "      <td>0.750000</td>\n",
       "      <td>-1.3</td>\n",
       "    </tr>\n",
       "  </tbody>\n",
       "</table>\n",
       "</div>"
      ],
      "text/plain": [
       "        one  two\n",
       "a  1.400000 -4.5\n",
       "b  7.100000 -4.5\n",
       "c  3.083333 -4.5\n",
       "d  0.750000 -1.3"
      ]
     },
     "execution_count": 66,
     "metadata": {},
     "output_type": "execute_result"
    }
   ],
   "source": [
    "df"
   ]
  },
  {
   "cell_type": "code",
   "execution_count": 67,
   "metadata": {},
   "outputs": [],
   "source": [
    "df2 = pd.DataFrame(np.random.randn(6,4),\n",
    "                  columns = ['A', 'B', 'C', 'D'],\n",
    "                  index = pd.date_range(\"20190217\", periods=6))"
   ]
  },
  {
   "cell_type": "code",
   "execution_count": 68,
   "metadata": {},
   "outputs": [
    {
     "data": {
      "text/html": [
       "<div>\n",
       "<style scoped>\n",
       "    .dataframe tbody tr th:only-of-type {\n",
       "        vertical-align: middle;\n",
       "    }\n",
       "\n",
       "    .dataframe tbody tr th {\n",
       "        vertical-align: top;\n",
       "    }\n",
       "\n",
       "    .dataframe thead th {\n",
       "        text-align: right;\n",
       "    }\n",
       "</style>\n",
       "<table border=\"1\" class=\"dataframe\">\n",
       "  <thead>\n",
       "    <tr style=\"text-align: right;\">\n",
       "      <th></th>\n",
       "      <th>A</th>\n",
       "      <th>B</th>\n",
       "      <th>C</th>\n",
       "      <th>D</th>\n",
       "    </tr>\n",
       "  </thead>\n",
       "  <tbody>\n",
       "    <tr>\n",
       "      <th>2019-02-17</th>\n",
       "      <td>-0.669385</td>\n",
       "      <td>-0.172566</td>\n",
       "      <td>-1.294716</td>\n",
       "      <td>2.884159</td>\n",
       "    </tr>\n",
       "    <tr>\n",
       "      <th>2019-02-18</th>\n",
       "      <td>-1.575448</td>\n",
       "      <td>-0.552403</td>\n",
       "      <td>-1.141842</td>\n",
       "      <td>0.221753</td>\n",
       "    </tr>\n",
       "    <tr>\n",
       "      <th>2019-02-19</th>\n",
       "      <td>0.032383</td>\n",
       "      <td>0.257757</td>\n",
       "      <td>1.177436</td>\n",
       "      <td>0.292356</td>\n",
       "    </tr>\n",
       "    <tr>\n",
       "      <th>2019-02-20</th>\n",
       "      <td>-0.376364</td>\n",
       "      <td>1.230460</td>\n",
       "      <td>-0.278866</td>\n",
       "      <td>0.324695</td>\n",
       "    </tr>\n",
       "    <tr>\n",
       "      <th>2019-02-21</th>\n",
       "      <td>-0.835133</td>\n",
       "      <td>-1.122096</td>\n",
       "      <td>-0.020480</td>\n",
       "      <td>-0.011589</td>\n",
       "    </tr>\n",
       "    <tr>\n",
       "      <th>2019-02-22</th>\n",
       "      <td>-1.237100</td>\n",
       "      <td>-0.032284</td>\n",
       "      <td>0.516336</td>\n",
       "      <td>2.082969</td>\n",
       "    </tr>\n",
       "  </tbody>\n",
       "</table>\n",
       "</div>"
      ],
      "text/plain": [
       "                   A         B         C         D\n",
       "2019-02-17 -0.669385 -0.172566 -1.294716  2.884159\n",
       "2019-02-18 -1.575448 -0.552403 -1.141842  0.221753\n",
       "2019-02-19  0.032383  0.257757  1.177436  0.292356\n",
       "2019-02-20 -0.376364  1.230460 -0.278866  0.324695\n",
       "2019-02-21 -0.835133 -1.122096 -0.020480 -0.011589\n",
       "2019-02-22 -1.237100 -0.032284  0.516336  2.082969"
      ]
     },
     "execution_count": 68,
     "metadata": {},
     "output_type": "execute_result"
    }
   ],
   "source": [
    "df2"
   ]
  },
  {
   "cell_type": "code",
   "execution_count": 70,
   "metadata": {},
   "outputs": [
    {
     "data": {
      "text/plain": [
       "0.5235105283270653"
      ]
     },
     "execution_count": 70,
     "metadata": {},
     "output_type": "execute_result"
    }
   ],
   "source": [
    "df2['A'].corr(df2['B'])"
   ]
  },
  {
   "cell_type": "code",
   "execution_count": 72,
   "metadata": {},
   "outputs": [
    {
     "data": {
      "text/plain": [
       "0.15058322911414757"
      ]
     },
     "execution_count": 72,
     "metadata": {},
     "output_type": "execute_result"
    }
   ],
   "source": [
    "df2['B'].cov(df2['C'])"
   ]
  },
  {
   "cell_type": "code",
   "execution_count": 73,
   "metadata": {},
   "outputs": [
    {
     "data": {
      "text/html": [
       "<div>\n",
       "<style scoped>\n",
       "    .dataframe tbody tr th:only-of-type {\n",
       "        vertical-align: middle;\n",
       "    }\n",
       "\n",
       "    .dataframe tbody tr th {\n",
       "        vertical-align: top;\n",
       "    }\n",
       "\n",
       "    .dataframe thead th {\n",
       "        text-align: right;\n",
       "    }\n",
       "</style>\n",
       "<table border=\"1\" class=\"dataframe\">\n",
       "  <thead>\n",
       "    <tr style=\"text-align: right;\">\n",
       "      <th></th>\n",
       "      <th>A</th>\n",
       "      <th>B</th>\n",
       "      <th>C</th>\n",
       "      <th>D</th>\n",
       "    </tr>\n",
       "  </thead>\n",
       "  <tbody>\n",
       "    <tr>\n",
       "      <th>A</th>\n",
       "      <td>1.000000</td>\n",
       "      <td>0.523511</td>\n",
       "      <td>0.499326</td>\n",
       "      <td>-0.130945</td>\n",
       "    </tr>\n",
       "    <tr>\n",
       "      <th>B</th>\n",
       "      <td>0.523511</td>\n",
       "      <td>1.000000</td>\n",
       "      <td>0.199310</td>\n",
       "      <td>0.037148</td>\n",
       "    </tr>\n",
       "    <tr>\n",
       "      <th>C</th>\n",
       "      <td>0.499326</td>\n",
       "      <td>0.199310</td>\n",
       "      <td>1.000000</td>\n",
       "      <td>-0.287155</td>\n",
       "    </tr>\n",
       "    <tr>\n",
       "      <th>D</th>\n",
       "      <td>-0.130945</td>\n",
       "      <td>0.037148</td>\n",
       "      <td>-0.287155</td>\n",
       "      <td>1.000000</td>\n",
       "    </tr>\n",
       "  </tbody>\n",
       "</table>\n",
       "</div>"
      ],
      "text/plain": [
       "          A         B         C         D\n",
       "A  1.000000  0.523511  0.499326 -0.130945\n",
       "B  0.523511  1.000000  0.199310  0.037148\n",
       "C  0.499326  0.199310  1.000000 -0.287155\n",
       "D -0.130945  0.037148 -0.287155  1.000000"
      ]
     },
     "execution_count": 73,
     "metadata": {},
     "output_type": "execute_result"
    }
   ],
   "source": [
    "df2.corr()"
   ]
  },
  {
   "cell_type": "code",
   "execution_count": 74,
   "metadata": {},
   "outputs": [
    {
     "data": {
      "text/html": [
       "<div>\n",
       "<style scoped>\n",
       "    .dataframe tbody tr th:only-of-type {\n",
       "        vertical-align: middle;\n",
       "    }\n",
       "\n",
       "    .dataframe tbody tr th {\n",
       "        vertical-align: top;\n",
       "    }\n",
       "\n",
       "    .dataframe thead th {\n",
       "        text-align: right;\n",
       "    }\n",
       "</style>\n",
       "<table border=\"1\" class=\"dataframe\">\n",
       "  <thead>\n",
       "    <tr style=\"text-align: right;\">\n",
       "      <th></th>\n",
       "      <th>A</th>\n",
       "      <th>B</th>\n",
       "      <th>C</th>\n",
       "      <th>D</th>\n",
       "    </tr>\n",
       "  </thead>\n",
       "  <tbody>\n",
       "    <tr>\n",
       "      <th>A</th>\n",
       "      <td>0.335956</td>\n",
       "      <td>0.240846</td>\n",
       "      <td>0.275487</td>\n",
       "      <td>-0.091718</td>\n",
       "    </tr>\n",
       "    <tr>\n",
       "      <th>B</th>\n",
       "      <td>0.240846</td>\n",
       "      <td>0.630009</td>\n",
       "      <td>0.150583</td>\n",
       "      <td>0.035632</td>\n",
       "    </tr>\n",
       "    <tr>\n",
       "      <th>C</th>\n",
       "      <td>0.275487</td>\n",
       "      <td>0.150583</td>\n",
       "      <td>0.906046</td>\n",
       "      <td>-0.330306</td>\n",
       "    </tr>\n",
       "    <tr>\n",
       "      <th>D</th>\n",
       "      <td>-0.091718</td>\n",
       "      <td>0.035632</td>\n",
       "      <td>-0.330306</td>\n",
       "      <td>1.460321</td>\n",
       "    </tr>\n",
       "  </tbody>\n",
       "</table>\n",
       "</div>"
      ],
      "text/plain": [
       "          A         B         C         D\n",
       "A  0.335956  0.240846  0.275487 -0.091718\n",
       "B  0.240846  0.630009  0.150583  0.035632\n",
       "C  0.275487  0.150583  0.906046 -0.330306\n",
       "D -0.091718  0.035632 -0.330306  1.460321"
      ]
     },
     "execution_count": 74,
     "metadata": {},
     "output_type": "execute_result"
    }
   ],
   "source": [
    "df2.cov()"
   ]
  },
  {
   "cell_type": "code",
   "execution_count": 76,
   "metadata": {},
   "outputs": [],
   "source": [
    "dates = df2.index\n",
    "random_dates = np.random.permutation(dates)\n",
    "df2 = df2.reindex(index = random_dates, columns=['D','B','C','A'])"
   ]
  },
  {
   "cell_type": "code",
   "execution_count": 77,
   "metadata": {},
   "outputs": [
    {
     "data": {
      "text/html": [
       "<div>\n",
       "<style scoped>\n",
       "    .dataframe tbody tr th:only-of-type {\n",
       "        vertical-align: middle;\n",
       "    }\n",
       "\n",
       "    .dataframe tbody tr th {\n",
       "        vertical-align: top;\n",
       "    }\n",
       "\n",
       "    .dataframe thead th {\n",
       "        text-align: right;\n",
       "    }\n",
       "</style>\n",
       "<table border=\"1\" class=\"dataframe\">\n",
       "  <thead>\n",
       "    <tr style=\"text-align: right;\">\n",
       "      <th></th>\n",
       "      <th>D</th>\n",
       "      <th>B</th>\n",
       "      <th>C</th>\n",
       "      <th>A</th>\n",
       "    </tr>\n",
       "  </thead>\n",
       "  <tbody>\n",
       "    <tr>\n",
       "      <th>2019-02-20</th>\n",
       "      <td>0.324695</td>\n",
       "      <td>1.230460</td>\n",
       "      <td>-0.278866</td>\n",
       "      <td>-0.376364</td>\n",
       "    </tr>\n",
       "    <tr>\n",
       "      <th>2019-02-17</th>\n",
       "      <td>2.884159</td>\n",
       "      <td>-0.172566</td>\n",
       "      <td>-1.294716</td>\n",
       "      <td>-0.669385</td>\n",
       "    </tr>\n",
       "    <tr>\n",
       "      <th>2019-02-19</th>\n",
       "      <td>0.292356</td>\n",
       "      <td>0.257757</td>\n",
       "      <td>1.177436</td>\n",
       "      <td>0.032383</td>\n",
       "    </tr>\n",
       "    <tr>\n",
       "      <th>2019-02-21</th>\n",
       "      <td>-0.011589</td>\n",
       "      <td>-1.122096</td>\n",
       "      <td>-0.020480</td>\n",
       "      <td>-0.835133</td>\n",
       "    </tr>\n",
       "    <tr>\n",
       "      <th>2019-02-18</th>\n",
       "      <td>0.221753</td>\n",
       "      <td>-0.552403</td>\n",
       "      <td>-1.141842</td>\n",
       "      <td>-1.575448</td>\n",
       "    </tr>\n",
       "    <tr>\n",
       "      <th>2019-02-22</th>\n",
       "      <td>2.082969</td>\n",
       "      <td>-0.032284</td>\n",
       "      <td>0.516336</td>\n",
       "      <td>-1.237100</td>\n",
       "    </tr>\n",
       "  </tbody>\n",
       "</table>\n",
       "</div>"
      ],
      "text/plain": [
       "                   D         B         C         A\n",
       "2019-02-20  0.324695  1.230460 -0.278866 -0.376364\n",
       "2019-02-17  2.884159 -0.172566 -1.294716 -0.669385\n",
       "2019-02-19  0.292356  0.257757  1.177436  0.032383\n",
       "2019-02-21 -0.011589 -1.122096 -0.020480 -0.835133\n",
       "2019-02-18  0.221753 -0.552403 -1.141842 -1.575448\n",
       "2019-02-22  2.082969 -0.032284  0.516336 -1.237100"
      ]
     },
     "execution_count": 77,
     "metadata": {},
     "output_type": "execute_result"
    }
   ],
   "source": [
    "df2"
   ]
  },
  {
   "cell_type": "code",
   "execution_count": 78,
   "metadata": {},
   "outputs": [
    {
     "data": {
      "text/html": [
       "<div>\n",
       "<style scoped>\n",
       "    .dataframe tbody tr th:only-of-type {\n",
       "        vertical-align: middle;\n",
       "    }\n",
       "\n",
       "    .dataframe tbody tr th {\n",
       "        vertical-align: top;\n",
       "    }\n",
       "\n",
       "    .dataframe thead th {\n",
       "        text-align: right;\n",
       "    }\n",
       "</style>\n",
       "<table border=\"1\" class=\"dataframe\">\n",
       "  <thead>\n",
       "    <tr style=\"text-align: right;\">\n",
       "      <th></th>\n",
       "      <th>D</th>\n",
       "      <th>B</th>\n",
       "      <th>C</th>\n",
       "      <th>A</th>\n",
       "    </tr>\n",
       "  </thead>\n",
       "  <tbody>\n",
       "    <tr>\n",
       "      <th>2019-02-17</th>\n",
       "      <td>2.884159</td>\n",
       "      <td>-0.172566</td>\n",
       "      <td>-1.294716</td>\n",
       "      <td>-0.669385</td>\n",
       "    </tr>\n",
       "    <tr>\n",
       "      <th>2019-02-18</th>\n",
       "      <td>0.221753</td>\n",
       "      <td>-0.552403</td>\n",
       "      <td>-1.141842</td>\n",
       "      <td>-1.575448</td>\n",
       "    </tr>\n",
       "    <tr>\n",
       "      <th>2019-02-19</th>\n",
       "      <td>0.292356</td>\n",
       "      <td>0.257757</td>\n",
       "      <td>1.177436</td>\n",
       "      <td>0.032383</td>\n",
       "    </tr>\n",
       "    <tr>\n",
       "      <th>2019-02-20</th>\n",
       "      <td>0.324695</td>\n",
       "      <td>1.230460</td>\n",
       "      <td>-0.278866</td>\n",
       "      <td>-0.376364</td>\n",
       "    </tr>\n",
       "    <tr>\n",
       "      <th>2019-02-21</th>\n",
       "      <td>-0.011589</td>\n",
       "      <td>-1.122096</td>\n",
       "      <td>-0.020480</td>\n",
       "      <td>-0.835133</td>\n",
       "    </tr>\n",
       "    <tr>\n",
       "      <th>2019-02-22</th>\n",
       "      <td>2.082969</td>\n",
       "      <td>-0.032284</td>\n",
       "      <td>0.516336</td>\n",
       "      <td>-1.237100</td>\n",
       "    </tr>\n",
       "  </tbody>\n",
       "</table>\n",
       "</div>"
      ],
      "text/plain": [
       "                   D         B         C         A\n",
       "2019-02-17  2.884159 -0.172566 -1.294716 -0.669385\n",
       "2019-02-18  0.221753 -0.552403 -1.141842 -1.575448\n",
       "2019-02-19  0.292356  0.257757  1.177436  0.032383\n",
       "2019-02-20  0.324695  1.230460 -0.278866 -0.376364\n",
       "2019-02-21 -0.011589 -1.122096 -0.020480 -0.835133\n",
       "2019-02-22  2.082969 -0.032284  0.516336 -1.237100"
      ]
     },
     "execution_count": 78,
     "metadata": {},
     "output_type": "execute_result"
    }
   ],
   "source": [
    "df2.sort_index(axis=0)"
   ]
  },
  {
   "cell_type": "code",
   "execution_count": 79,
   "metadata": {},
   "outputs": [
    {
     "data": {
      "text/html": [
       "<div>\n",
       "<style scoped>\n",
       "    .dataframe tbody tr th:only-of-type {\n",
       "        vertical-align: middle;\n",
       "    }\n",
       "\n",
       "    .dataframe tbody tr th {\n",
       "        vertical-align: top;\n",
       "    }\n",
       "\n",
       "    .dataframe thead th {\n",
       "        text-align: right;\n",
       "    }\n",
       "</style>\n",
       "<table border=\"1\" class=\"dataframe\">\n",
       "  <thead>\n",
       "    <tr style=\"text-align: right;\">\n",
       "      <th></th>\n",
       "      <th>A</th>\n",
       "      <th>B</th>\n",
       "      <th>C</th>\n",
       "      <th>D</th>\n",
       "    </tr>\n",
       "  </thead>\n",
       "  <tbody>\n",
       "    <tr>\n",
       "      <th>2019-02-20</th>\n",
       "      <td>-0.376364</td>\n",
       "      <td>1.230460</td>\n",
       "      <td>-0.278866</td>\n",
       "      <td>0.324695</td>\n",
       "    </tr>\n",
       "    <tr>\n",
       "      <th>2019-02-17</th>\n",
       "      <td>-0.669385</td>\n",
       "      <td>-0.172566</td>\n",
       "      <td>-1.294716</td>\n",
       "      <td>2.884159</td>\n",
       "    </tr>\n",
       "    <tr>\n",
       "      <th>2019-02-19</th>\n",
       "      <td>0.032383</td>\n",
       "      <td>0.257757</td>\n",
       "      <td>1.177436</td>\n",
       "      <td>0.292356</td>\n",
       "    </tr>\n",
       "    <tr>\n",
       "      <th>2019-02-21</th>\n",
       "      <td>-0.835133</td>\n",
       "      <td>-1.122096</td>\n",
       "      <td>-0.020480</td>\n",
       "      <td>-0.011589</td>\n",
       "    </tr>\n",
       "    <tr>\n",
       "      <th>2019-02-18</th>\n",
       "      <td>-1.575448</td>\n",
       "      <td>-0.552403</td>\n",
       "      <td>-1.141842</td>\n",
       "      <td>0.221753</td>\n",
       "    </tr>\n",
       "    <tr>\n",
       "      <th>2019-02-22</th>\n",
       "      <td>-1.237100</td>\n",
       "      <td>-0.032284</td>\n",
       "      <td>0.516336</td>\n",
       "      <td>2.082969</td>\n",
       "    </tr>\n",
       "  </tbody>\n",
       "</table>\n",
       "</div>"
      ],
      "text/plain": [
       "                   A         B         C         D\n",
       "2019-02-20 -0.376364  1.230460 -0.278866  0.324695\n",
       "2019-02-17 -0.669385 -0.172566 -1.294716  2.884159\n",
       "2019-02-19  0.032383  0.257757  1.177436  0.292356\n",
       "2019-02-21 -0.835133 -1.122096 -0.020480 -0.011589\n",
       "2019-02-18 -1.575448 -0.552403 -1.141842  0.221753\n",
       "2019-02-22 -1.237100 -0.032284  0.516336  2.082969"
      ]
     },
     "execution_count": 79,
     "metadata": {},
     "output_type": "execute_result"
    }
   ],
   "source": [
    "df2.sort_index(axis=1)"
   ]
  },
  {
   "cell_type": "code",
   "execution_count": 80,
   "metadata": {},
   "outputs": [
    {
     "data": {
      "text/html": [
       "<div>\n",
       "<style scoped>\n",
       "    .dataframe tbody tr th:only-of-type {\n",
       "        vertical-align: middle;\n",
       "    }\n",
       "\n",
       "    .dataframe tbody tr th {\n",
       "        vertical-align: top;\n",
       "    }\n",
       "\n",
       "    .dataframe thead th {\n",
       "        text-align: right;\n",
       "    }\n",
       "</style>\n",
       "<table border=\"1\" class=\"dataframe\">\n",
       "  <thead>\n",
       "    <tr style=\"text-align: right;\">\n",
       "      <th></th>\n",
       "      <th>D</th>\n",
       "      <th>B</th>\n",
       "      <th>C</th>\n",
       "      <th>A</th>\n",
       "    </tr>\n",
       "  </thead>\n",
       "  <tbody>\n",
       "    <tr>\n",
       "      <th>2019-02-17</th>\n",
       "      <td>2.884159</td>\n",
       "      <td>-0.172566</td>\n",
       "      <td>-1.294716</td>\n",
       "      <td>-0.669385</td>\n",
       "    </tr>\n",
       "    <tr>\n",
       "      <th>2019-02-18</th>\n",
       "      <td>0.221753</td>\n",
       "      <td>-0.552403</td>\n",
       "      <td>-1.141842</td>\n",
       "      <td>-1.575448</td>\n",
       "    </tr>\n",
       "    <tr>\n",
       "      <th>2019-02-19</th>\n",
       "      <td>0.292356</td>\n",
       "      <td>0.257757</td>\n",
       "      <td>1.177436</td>\n",
       "      <td>0.032383</td>\n",
       "    </tr>\n",
       "    <tr>\n",
       "      <th>2019-02-20</th>\n",
       "      <td>0.324695</td>\n",
       "      <td>1.230460</td>\n",
       "      <td>-0.278866</td>\n",
       "      <td>-0.376364</td>\n",
       "    </tr>\n",
       "    <tr>\n",
       "      <th>2019-02-21</th>\n",
       "      <td>-0.011589</td>\n",
       "      <td>-1.122096</td>\n",
       "      <td>-0.020480</td>\n",
       "      <td>-0.835133</td>\n",
       "    </tr>\n",
       "    <tr>\n",
       "      <th>2019-02-22</th>\n",
       "      <td>2.082969</td>\n",
       "      <td>-0.032284</td>\n",
       "      <td>0.516336</td>\n",
       "      <td>-1.237100</td>\n",
       "    </tr>\n",
       "  </tbody>\n",
       "</table>\n",
       "</div>"
      ],
      "text/plain": [
       "                   D         B         C         A\n",
       "2019-02-17  2.884159 -0.172566 -1.294716 -0.669385\n",
       "2019-02-18  0.221753 -0.552403 -1.141842 -1.575448\n",
       "2019-02-19  0.292356  0.257757  1.177436  0.032383\n",
       "2019-02-20  0.324695  1.230460 -0.278866 -0.376364\n",
       "2019-02-21 -0.011589 -1.122096 -0.020480 -0.835133\n",
       "2019-02-22  2.082969 -0.032284  0.516336 -1.237100"
      ]
     },
     "execution_count": 80,
     "metadata": {},
     "output_type": "execute_result"
    }
   ],
   "source": [
    "df2.sort_index()"
   ]
  },
  {
   "cell_type": "code",
   "execution_count": 81,
   "metadata": {},
   "outputs": [
    {
     "data": {
      "text/html": [
       "<div>\n",
       "<style scoped>\n",
       "    .dataframe tbody tr th:only-of-type {\n",
       "        vertical-align: middle;\n",
       "    }\n",
       "\n",
       "    .dataframe tbody tr th {\n",
       "        vertical-align: top;\n",
       "    }\n",
       "\n",
       "    .dataframe thead th {\n",
       "        text-align: right;\n",
       "    }\n",
       "</style>\n",
       "<table border=\"1\" class=\"dataframe\">\n",
       "  <thead>\n",
       "    <tr style=\"text-align: right;\">\n",
       "      <th></th>\n",
       "      <th>D</th>\n",
       "      <th>B</th>\n",
       "      <th>C</th>\n",
       "      <th>A</th>\n",
       "    </tr>\n",
       "  </thead>\n",
       "  <tbody>\n",
       "    <tr>\n",
       "      <th>2019-02-22</th>\n",
       "      <td>2.082969</td>\n",
       "      <td>-0.032284</td>\n",
       "      <td>0.516336</td>\n",
       "      <td>-1.237100</td>\n",
       "    </tr>\n",
       "    <tr>\n",
       "      <th>2019-02-21</th>\n",
       "      <td>-0.011589</td>\n",
       "      <td>-1.122096</td>\n",
       "      <td>-0.020480</td>\n",
       "      <td>-0.835133</td>\n",
       "    </tr>\n",
       "    <tr>\n",
       "      <th>2019-02-20</th>\n",
       "      <td>0.324695</td>\n",
       "      <td>1.230460</td>\n",
       "      <td>-0.278866</td>\n",
       "      <td>-0.376364</td>\n",
       "    </tr>\n",
       "    <tr>\n",
       "      <th>2019-02-19</th>\n",
       "      <td>0.292356</td>\n",
       "      <td>0.257757</td>\n",
       "      <td>1.177436</td>\n",
       "      <td>0.032383</td>\n",
       "    </tr>\n",
       "    <tr>\n",
       "      <th>2019-02-18</th>\n",
       "      <td>0.221753</td>\n",
       "      <td>-0.552403</td>\n",
       "      <td>-1.141842</td>\n",
       "      <td>-1.575448</td>\n",
       "    </tr>\n",
       "    <tr>\n",
       "      <th>2019-02-17</th>\n",
       "      <td>2.884159</td>\n",
       "      <td>-0.172566</td>\n",
       "      <td>-1.294716</td>\n",
       "      <td>-0.669385</td>\n",
       "    </tr>\n",
       "  </tbody>\n",
       "</table>\n",
       "</div>"
      ],
      "text/plain": [
       "                   D         B         C         A\n",
       "2019-02-22  2.082969 -0.032284  0.516336 -1.237100\n",
       "2019-02-21 -0.011589 -1.122096 -0.020480 -0.835133\n",
       "2019-02-20  0.324695  1.230460 -0.278866 -0.376364\n",
       "2019-02-19  0.292356  0.257757  1.177436  0.032383\n",
       "2019-02-18  0.221753 -0.552403 -1.141842 -1.575448\n",
       "2019-02-17  2.884159 -0.172566 -1.294716 -0.669385"
      ]
     },
     "execution_count": 81,
     "metadata": {},
     "output_type": "execute_result"
    }
   ],
   "source": [
    "# 내림차순으로 정렬하기\n",
    "\n",
    "df2.sort_index(axis=0, ascending=False)"
   ]
  },
  {
   "cell_type": "code",
   "execution_count": 83,
   "metadata": {},
   "outputs": [
    {
     "data": {
      "text/html": [
       "<div>\n",
       "<style scoped>\n",
       "    .dataframe tbody tr th:only-of-type {\n",
       "        vertical-align: middle;\n",
       "    }\n",
       "\n",
       "    .dataframe tbody tr th {\n",
       "        vertical-align: top;\n",
       "    }\n",
       "\n",
       "    .dataframe thead th {\n",
       "        text-align: right;\n",
       "    }\n",
       "</style>\n",
       "<table border=\"1\" class=\"dataframe\">\n",
       "  <thead>\n",
       "    <tr style=\"text-align: right;\">\n",
       "      <th></th>\n",
       "      <th>D</th>\n",
       "      <th>B</th>\n",
       "      <th>C</th>\n",
       "      <th>A</th>\n",
       "    </tr>\n",
       "  </thead>\n",
       "  <tbody>\n",
       "    <tr>\n",
       "      <th>2019-02-20</th>\n",
       "      <td>0.324695</td>\n",
       "      <td>1.230460</td>\n",
       "      <td>-0.278866</td>\n",
       "      <td>-0.376364</td>\n",
       "    </tr>\n",
       "    <tr>\n",
       "      <th>2019-02-17</th>\n",
       "      <td>2.884159</td>\n",
       "      <td>-0.172566</td>\n",
       "      <td>-1.294716</td>\n",
       "      <td>-0.669385</td>\n",
       "    </tr>\n",
       "    <tr>\n",
       "      <th>2019-02-19</th>\n",
       "      <td>0.292356</td>\n",
       "      <td>0.257757</td>\n",
       "      <td>1.177436</td>\n",
       "      <td>0.032383</td>\n",
       "    </tr>\n",
       "    <tr>\n",
       "      <th>2019-02-21</th>\n",
       "      <td>-0.011589</td>\n",
       "      <td>-1.122096</td>\n",
       "      <td>-0.020480</td>\n",
       "      <td>-0.835133</td>\n",
       "    </tr>\n",
       "    <tr>\n",
       "      <th>2019-02-18</th>\n",
       "      <td>0.221753</td>\n",
       "      <td>-0.552403</td>\n",
       "      <td>-1.141842</td>\n",
       "      <td>-1.575448</td>\n",
       "    </tr>\n",
       "    <tr>\n",
       "      <th>2019-02-22</th>\n",
       "      <td>2.082969</td>\n",
       "      <td>-0.032284</td>\n",
       "      <td>0.516336</td>\n",
       "      <td>-1.237100</td>\n",
       "    </tr>\n",
       "  </tbody>\n",
       "</table>\n",
       "</div>"
      ],
      "text/plain": [
       "                   D         B         C         A\n",
       "2019-02-20  0.324695  1.230460 -0.278866 -0.376364\n",
       "2019-02-17  2.884159 -0.172566 -1.294716 -0.669385\n",
       "2019-02-19  0.292356  0.257757  1.177436  0.032383\n",
       "2019-02-21 -0.011589 -1.122096 -0.020480 -0.835133\n",
       "2019-02-18  0.221753 -0.552403 -1.141842 -1.575448\n",
       "2019-02-22  2.082969 -0.032284  0.516336 -1.237100"
      ]
     },
     "execution_count": 83,
     "metadata": {},
     "output_type": "execute_result"
    }
   ],
   "source": [
    "df2"
   ]
  },
  {
   "cell_type": "code",
   "execution_count": 84,
   "metadata": {},
   "outputs": [
    {
     "data": {
      "text/html": [
       "<div>\n",
       "<style scoped>\n",
       "    .dataframe tbody tr th:only-of-type {\n",
       "        vertical-align: middle;\n",
       "    }\n",
       "\n",
       "    .dataframe tbody tr th {\n",
       "        vertical-align: top;\n",
       "    }\n",
       "\n",
       "    .dataframe thead th {\n",
       "        text-align: right;\n",
       "    }\n",
       "</style>\n",
       "<table border=\"1\" class=\"dataframe\">\n",
       "  <thead>\n",
       "    <tr style=\"text-align: right;\">\n",
       "      <th></th>\n",
       "      <th>D</th>\n",
       "      <th>B</th>\n",
       "      <th>C</th>\n",
       "      <th>A</th>\n",
       "    </tr>\n",
       "  </thead>\n",
       "  <tbody>\n",
       "    <tr>\n",
       "      <th>2019-02-21</th>\n",
       "      <td>-0.011589</td>\n",
       "      <td>-1.122096</td>\n",
       "      <td>-0.020480</td>\n",
       "      <td>-0.835133</td>\n",
       "    </tr>\n",
       "    <tr>\n",
       "      <th>2019-02-18</th>\n",
       "      <td>0.221753</td>\n",
       "      <td>-0.552403</td>\n",
       "      <td>-1.141842</td>\n",
       "      <td>-1.575448</td>\n",
       "    </tr>\n",
       "    <tr>\n",
       "      <th>2019-02-19</th>\n",
       "      <td>0.292356</td>\n",
       "      <td>0.257757</td>\n",
       "      <td>1.177436</td>\n",
       "      <td>0.032383</td>\n",
       "    </tr>\n",
       "    <tr>\n",
       "      <th>2019-02-20</th>\n",
       "      <td>0.324695</td>\n",
       "      <td>1.230460</td>\n",
       "      <td>-0.278866</td>\n",
       "      <td>-0.376364</td>\n",
       "    </tr>\n",
       "    <tr>\n",
       "      <th>2019-02-22</th>\n",
       "      <td>2.082969</td>\n",
       "      <td>-0.032284</td>\n",
       "      <td>0.516336</td>\n",
       "      <td>-1.237100</td>\n",
       "    </tr>\n",
       "    <tr>\n",
       "      <th>2019-02-17</th>\n",
       "      <td>2.884159</td>\n",
       "      <td>-0.172566</td>\n",
       "      <td>-1.294716</td>\n",
       "      <td>-0.669385</td>\n",
       "    </tr>\n",
       "  </tbody>\n",
       "</table>\n",
       "</div>"
      ],
      "text/plain": [
       "                   D         B         C         A\n",
       "2019-02-21 -0.011589 -1.122096 -0.020480 -0.835133\n",
       "2019-02-18  0.221753 -0.552403 -1.141842 -1.575448\n",
       "2019-02-19  0.292356  0.257757  1.177436  0.032383\n",
       "2019-02-20  0.324695  1.230460 -0.278866 -0.376364\n",
       "2019-02-22  2.082969 -0.032284  0.516336 -1.237100\n",
       "2019-02-17  2.884159 -0.172566 -1.294716 -0.669385"
      ]
     },
     "execution_count": 84,
     "metadata": {},
     "output_type": "execute_result"
    }
   ],
   "source": [
    "# D열을 기준으로 값을 정렬하기\n",
    "\n",
    "df2.sort_values(by='D')"
   ]
  },
  {
   "cell_type": "code",
   "execution_count": 87,
   "metadata": {},
   "outputs": [
    {
     "data": {
      "text/html": [
       "<div>\n",
       "<style scoped>\n",
       "    .dataframe tbody tr th:only-of-type {\n",
       "        vertical-align: middle;\n",
       "    }\n",
       "\n",
       "    .dataframe tbody tr th {\n",
       "        vertical-align: top;\n",
       "    }\n",
       "\n",
       "    .dataframe thead th {\n",
       "        text-align: right;\n",
       "    }\n",
       "</style>\n",
       "<table border=\"1\" class=\"dataframe\">\n",
       "  <thead>\n",
       "    <tr style=\"text-align: right;\">\n",
       "      <th></th>\n",
       "      <th>D</th>\n",
       "      <th>B</th>\n",
       "      <th>C</th>\n",
       "      <th>A</th>\n",
       "    </tr>\n",
       "  </thead>\n",
       "  <tbody>\n",
       "    <tr>\n",
       "      <th>2019-02-21</th>\n",
       "      <td>-0.011589</td>\n",
       "      <td>-1.122096</td>\n",
       "      <td>-0.020480</td>\n",
       "      <td>-0.835133</td>\n",
       "    </tr>\n",
       "    <tr>\n",
       "      <th>2019-02-18</th>\n",
       "      <td>0.221753</td>\n",
       "      <td>-0.552403</td>\n",
       "      <td>-1.141842</td>\n",
       "      <td>-1.575448</td>\n",
       "    </tr>\n",
       "    <tr>\n",
       "      <th>2019-02-17</th>\n",
       "      <td>2.884159</td>\n",
       "      <td>-0.172566</td>\n",
       "      <td>-1.294716</td>\n",
       "      <td>-0.669385</td>\n",
       "    </tr>\n",
       "    <tr>\n",
       "      <th>2019-02-22</th>\n",
       "      <td>2.082969</td>\n",
       "      <td>-0.032284</td>\n",
       "      <td>0.516336</td>\n",
       "      <td>-1.237100</td>\n",
       "    </tr>\n",
       "    <tr>\n",
       "      <th>2019-02-19</th>\n",
       "      <td>0.292356</td>\n",
       "      <td>0.257757</td>\n",
       "      <td>1.177436</td>\n",
       "      <td>0.032383</td>\n",
       "    </tr>\n",
       "    <tr>\n",
       "      <th>2019-02-20</th>\n",
       "      <td>0.324695</td>\n",
       "      <td>1.230460</td>\n",
       "      <td>-0.278866</td>\n",
       "      <td>-0.376364</td>\n",
       "    </tr>\n",
       "  </tbody>\n",
       "</table>\n",
       "</div>"
      ],
      "text/plain": [
       "                   D         B         C         A\n",
       "2019-02-21 -0.011589 -1.122096 -0.020480 -0.835133\n",
       "2019-02-18  0.221753 -0.552403 -1.141842 -1.575448\n",
       "2019-02-17  2.884159 -0.172566 -1.294716 -0.669385\n",
       "2019-02-22  2.082969 -0.032284  0.516336 -1.237100\n",
       "2019-02-19  0.292356  0.257757  1.177436  0.032383\n",
       "2019-02-20  0.324695  1.230460 -0.278866 -0.376364"
      ]
     },
     "execution_count": 87,
     "metadata": {},
     "output_type": "execute_result"
    }
   ],
   "source": [
    "df2.sort_values(by='B')"
   ]
  },
  {
   "cell_type": "code",
   "execution_count": 88,
   "metadata": {},
   "outputs": [],
   "source": [
    "df2['E'] = np.random.randint(0, 6, size=6)\n",
    "df2['F'] = ['alpha', 'beta', 'gamma', 'gamma', 'alpha', 'gamma']"
   ]
  },
  {
   "cell_type": "code",
   "execution_count": 89,
   "metadata": {},
   "outputs": [
    {
     "data": {
      "text/html": [
       "<div>\n",
       "<style scoped>\n",
       "    .dataframe tbody tr th:only-of-type {\n",
       "        vertical-align: middle;\n",
       "    }\n",
       "\n",
       "    .dataframe tbody tr th {\n",
       "        vertical-align: top;\n",
       "    }\n",
       "\n",
       "    .dataframe thead th {\n",
       "        text-align: right;\n",
       "    }\n",
       "</style>\n",
       "<table border=\"1\" class=\"dataframe\">\n",
       "  <thead>\n",
       "    <tr style=\"text-align: right;\">\n",
       "      <th></th>\n",
       "      <th>D</th>\n",
       "      <th>B</th>\n",
       "      <th>C</th>\n",
       "      <th>A</th>\n",
       "      <th>E</th>\n",
       "      <th>F</th>\n",
       "    </tr>\n",
       "  </thead>\n",
       "  <tbody>\n",
       "    <tr>\n",
       "      <th>2019-02-20</th>\n",
       "      <td>0.324695</td>\n",
       "      <td>1.230460</td>\n",
       "      <td>-0.278866</td>\n",
       "      <td>-0.376364</td>\n",
       "      <td>2</td>\n",
       "      <td>alpha</td>\n",
       "    </tr>\n",
       "    <tr>\n",
       "      <th>2019-02-17</th>\n",
       "      <td>2.884159</td>\n",
       "      <td>-0.172566</td>\n",
       "      <td>-1.294716</td>\n",
       "      <td>-0.669385</td>\n",
       "      <td>3</td>\n",
       "      <td>beta</td>\n",
       "    </tr>\n",
       "    <tr>\n",
       "      <th>2019-02-19</th>\n",
       "      <td>0.292356</td>\n",
       "      <td>0.257757</td>\n",
       "      <td>1.177436</td>\n",
       "      <td>0.032383</td>\n",
       "      <td>5</td>\n",
       "      <td>gamma</td>\n",
       "    </tr>\n",
       "    <tr>\n",
       "      <th>2019-02-21</th>\n",
       "      <td>-0.011589</td>\n",
       "      <td>-1.122096</td>\n",
       "      <td>-0.020480</td>\n",
       "      <td>-0.835133</td>\n",
       "      <td>1</td>\n",
       "      <td>gamma</td>\n",
       "    </tr>\n",
       "    <tr>\n",
       "      <th>2019-02-18</th>\n",
       "      <td>0.221753</td>\n",
       "      <td>-0.552403</td>\n",
       "      <td>-1.141842</td>\n",
       "      <td>-1.575448</td>\n",
       "      <td>3</td>\n",
       "      <td>alpha</td>\n",
       "    </tr>\n",
       "    <tr>\n",
       "      <th>2019-02-22</th>\n",
       "      <td>2.082969</td>\n",
       "      <td>-0.032284</td>\n",
       "      <td>0.516336</td>\n",
       "      <td>-1.237100</td>\n",
       "      <td>5</td>\n",
       "      <td>gamma</td>\n",
       "    </tr>\n",
       "  </tbody>\n",
       "</table>\n",
       "</div>"
      ],
      "text/plain": [
       "                   D         B         C         A  E      F\n",
       "2019-02-20  0.324695  1.230460 -0.278866 -0.376364  2  alpha\n",
       "2019-02-17  2.884159 -0.172566 -1.294716 -0.669385  3   beta\n",
       "2019-02-19  0.292356  0.257757  1.177436  0.032383  5  gamma\n",
       "2019-02-21 -0.011589 -1.122096 -0.020480 -0.835133  1  gamma\n",
       "2019-02-18  0.221753 -0.552403 -1.141842 -1.575448  3  alpha\n",
       "2019-02-22  2.082969 -0.032284  0.516336 -1.237100  5  gamma"
      ]
     },
     "execution_count": 89,
     "metadata": {},
     "output_type": "execute_result"
    }
   ],
   "source": [
    "df2"
   ]
  },
  {
   "cell_type": "code",
   "execution_count": 90,
   "metadata": {},
   "outputs": [
    {
     "data": {
      "text/html": [
       "<div>\n",
       "<style scoped>\n",
       "    .dataframe tbody tr th:only-of-type {\n",
       "        vertical-align: middle;\n",
       "    }\n",
       "\n",
       "    .dataframe tbody tr th {\n",
       "        vertical-align: top;\n",
       "    }\n",
       "\n",
       "    .dataframe thead th {\n",
       "        text-align: right;\n",
       "    }\n",
       "</style>\n",
       "<table border=\"1\" class=\"dataframe\">\n",
       "  <thead>\n",
       "    <tr style=\"text-align: right;\">\n",
       "      <th></th>\n",
       "      <th>D</th>\n",
       "      <th>B</th>\n",
       "      <th>C</th>\n",
       "      <th>A</th>\n",
       "      <th>E</th>\n",
       "      <th>F</th>\n",
       "    </tr>\n",
       "  </thead>\n",
       "  <tbody>\n",
       "    <tr>\n",
       "      <th>2019-02-21</th>\n",
       "      <td>-0.011589</td>\n",
       "      <td>-1.122096</td>\n",
       "      <td>-0.020480</td>\n",
       "      <td>-0.835133</td>\n",
       "      <td>1</td>\n",
       "      <td>gamma</td>\n",
       "    </tr>\n",
       "    <tr>\n",
       "      <th>2019-02-20</th>\n",
       "      <td>0.324695</td>\n",
       "      <td>1.230460</td>\n",
       "      <td>-0.278866</td>\n",
       "      <td>-0.376364</td>\n",
       "      <td>2</td>\n",
       "      <td>alpha</td>\n",
       "    </tr>\n",
       "    <tr>\n",
       "      <th>2019-02-18</th>\n",
       "      <td>0.221753</td>\n",
       "      <td>-0.552403</td>\n",
       "      <td>-1.141842</td>\n",
       "      <td>-1.575448</td>\n",
       "      <td>3</td>\n",
       "      <td>alpha</td>\n",
       "    </tr>\n",
       "    <tr>\n",
       "      <th>2019-02-17</th>\n",
       "      <td>2.884159</td>\n",
       "      <td>-0.172566</td>\n",
       "      <td>-1.294716</td>\n",
       "      <td>-0.669385</td>\n",
       "      <td>3</td>\n",
       "      <td>beta</td>\n",
       "    </tr>\n",
       "    <tr>\n",
       "      <th>2019-02-19</th>\n",
       "      <td>0.292356</td>\n",
       "      <td>0.257757</td>\n",
       "      <td>1.177436</td>\n",
       "      <td>0.032383</td>\n",
       "      <td>5</td>\n",
       "      <td>gamma</td>\n",
       "    </tr>\n",
       "    <tr>\n",
       "      <th>2019-02-22</th>\n",
       "      <td>2.082969</td>\n",
       "      <td>-0.032284</td>\n",
       "      <td>0.516336</td>\n",
       "      <td>-1.237100</td>\n",
       "      <td>5</td>\n",
       "      <td>gamma</td>\n",
       "    </tr>\n",
       "  </tbody>\n",
       "</table>\n",
       "</div>"
      ],
      "text/plain": [
       "                   D         B         C         A  E      F\n",
       "2019-02-21 -0.011589 -1.122096 -0.020480 -0.835133  1  gamma\n",
       "2019-02-20  0.324695  1.230460 -0.278866 -0.376364  2  alpha\n",
       "2019-02-18  0.221753 -0.552403 -1.141842 -1.575448  3  alpha\n",
       "2019-02-17  2.884159 -0.172566 -1.294716 -0.669385  3   beta\n",
       "2019-02-19  0.292356  0.257757  1.177436  0.032383  5  gamma\n",
       "2019-02-22  2.082969 -0.032284  0.516336 -1.237100  5  gamma"
      ]
     },
     "execution_count": 90,
     "metadata": {},
     "output_type": "execute_result"
    }
   ],
   "source": [
    "df2.sort_values(by=['E', 'F'])"
   ]
  },
  {
   "cell_type": "code",
   "execution_count": 91,
   "metadata": {},
   "outputs": [
    {
     "data": {
      "text/html": [
       "<div>\n",
       "<style scoped>\n",
       "    .dataframe tbody tr th:only-of-type {\n",
       "        vertical-align: middle;\n",
       "    }\n",
       "\n",
       "    .dataframe tbody tr th {\n",
       "        vertical-align: top;\n",
       "    }\n",
       "\n",
       "    .dataframe thead th {\n",
       "        text-align: right;\n",
       "    }\n",
       "</style>\n",
       "<table border=\"1\" class=\"dataframe\">\n",
       "  <thead>\n",
       "    <tr style=\"text-align: right;\">\n",
       "      <th></th>\n",
       "      <th>D</th>\n",
       "      <th>B</th>\n",
       "      <th>C</th>\n",
       "      <th>A</th>\n",
       "      <th>E</th>\n",
       "      <th>F</th>\n",
       "    </tr>\n",
       "  </thead>\n",
       "  <tbody>\n",
       "    <tr>\n",
       "      <th>2019-02-21</th>\n",
       "      <td>-0.011589</td>\n",
       "      <td>-1.122096</td>\n",
       "      <td>-0.020480</td>\n",
       "      <td>-0.835133</td>\n",
       "      <td>1</td>\n",
       "      <td>gamma</td>\n",
       "    </tr>\n",
       "    <tr>\n",
       "      <th>2019-02-20</th>\n",
       "      <td>0.324695</td>\n",
       "      <td>1.230460</td>\n",
       "      <td>-0.278866</td>\n",
       "      <td>-0.376364</td>\n",
       "      <td>2</td>\n",
       "      <td>alpha</td>\n",
       "    </tr>\n",
       "    <tr>\n",
       "      <th>2019-02-17</th>\n",
       "      <td>2.884159</td>\n",
       "      <td>-0.172566</td>\n",
       "      <td>-1.294716</td>\n",
       "      <td>-0.669385</td>\n",
       "      <td>3</td>\n",
       "      <td>beta</td>\n",
       "    </tr>\n",
       "    <tr>\n",
       "      <th>2019-02-18</th>\n",
       "      <td>0.221753</td>\n",
       "      <td>-0.552403</td>\n",
       "      <td>-1.141842</td>\n",
       "      <td>-1.575448</td>\n",
       "      <td>3</td>\n",
       "      <td>alpha</td>\n",
       "    </tr>\n",
       "    <tr>\n",
       "      <th>2019-02-19</th>\n",
       "      <td>0.292356</td>\n",
       "      <td>0.257757</td>\n",
       "      <td>1.177436</td>\n",
       "      <td>0.032383</td>\n",
       "      <td>5</td>\n",
       "      <td>gamma</td>\n",
       "    </tr>\n",
       "    <tr>\n",
       "      <th>2019-02-22</th>\n",
       "      <td>2.082969</td>\n",
       "      <td>-0.032284</td>\n",
       "      <td>0.516336</td>\n",
       "      <td>-1.237100</td>\n",
       "      <td>5</td>\n",
       "      <td>gamma</td>\n",
       "    </tr>\n",
       "  </tbody>\n",
       "</table>\n",
       "</div>"
      ],
      "text/plain": [
       "                   D         B         C         A  E      F\n",
       "2019-02-21 -0.011589 -1.122096 -0.020480 -0.835133  1  gamma\n",
       "2019-02-20  0.324695  1.230460 -0.278866 -0.376364  2  alpha\n",
       "2019-02-17  2.884159 -0.172566 -1.294716 -0.669385  3   beta\n",
       "2019-02-18  0.221753 -0.552403 -1.141842 -1.575448  3  alpha\n",
       "2019-02-19  0.292356  0.257757  1.177436  0.032383  5  gamma\n",
       "2019-02-22  2.082969 -0.032284  0.516336 -1.237100  5  gamma"
      ]
     },
     "execution_count": 91,
     "metadata": {},
     "output_type": "execute_result"
    }
   ],
   "source": [
    "df2.sort_values(by='E')"
   ]
  },
  {
   "cell_type": "code",
   "execution_count": 92,
   "metadata": {},
   "outputs": [
    {
     "data": {
      "text/plain": [
       "array(['alpha', 'beta', 'gamma'], dtype=object)"
      ]
     },
     "execution_count": 92,
     "metadata": {},
     "output_type": "execute_result"
    }
   ],
   "source": [
    "df2['F'].unique()"
   ]
  },
  {
   "cell_type": "code",
   "execution_count": 93,
   "metadata": {},
   "outputs": [
    {
     "data": {
      "text/plain": [
       "{'alpha', 'beta', 'gamma'}"
      ]
     },
     "execution_count": 93,
     "metadata": {},
     "output_type": "execute_result"
    }
   ],
   "source": [
    "set(df2['F'])"
   ]
  },
  {
   "cell_type": "code",
   "execution_count": 95,
   "metadata": {},
   "outputs": [
    {
     "data": {
      "text/plain": [
       "['alpha', 'beta', 'gamma']"
      ]
     },
     "execution_count": 95,
     "metadata": {},
     "output_type": "execute_result"
    }
   ],
   "source": [
    "sorted(set(df2['F']))"
   ]
  },
  {
   "cell_type": "code",
   "execution_count": 98,
   "metadata": {},
   "outputs": [
    {
     "data": {
      "text/plain": [
       "pandas.core.series.Series"
      ]
     },
     "execution_count": 98,
     "metadata": {},
     "output_type": "execute_result"
    }
   ],
   "source": [
    "type(df2['F'])"
   ]
  },
  {
   "cell_type": "code",
   "execution_count": 99,
   "metadata": {},
   "outputs": [
    {
     "data": {
      "text/plain": [
       "gamma    3\n",
       "alpha    2\n",
       "beta     1\n",
       "Name: F, dtype: int64"
      ]
     },
     "execution_count": 99,
     "metadata": {},
     "output_type": "execute_result"
    }
   ],
   "source": [
    "df2['F'].value_counts()"
   ]
  },
  {
   "cell_type": "code",
   "execution_count": 100,
   "metadata": {},
   "outputs": [
    {
     "data": {
      "text/plain": [
       "2019-02-20     True\n",
       "2019-02-17     True\n",
       "2019-02-19    False\n",
       "2019-02-21    False\n",
       "2019-02-18     True\n",
       "2019-02-22    False\n",
       "Name: F, dtype: bool"
      ]
     },
     "execution_count": 100,
     "metadata": {},
     "output_type": "execute_result"
    }
   ],
   "source": [
    "df2['F'].isin(['alpha', 'beta'])"
   ]
  },
  {
   "cell_type": "code",
   "execution_count": 102,
   "metadata": {},
   "outputs": [
    {
     "data": {
      "text/html": [
       "<div>\n",
       "<style scoped>\n",
       "    .dataframe tbody tr th:only-of-type {\n",
       "        vertical-align: middle;\n",
       "    }\n",
       "\n",
       "    .dataframe tbody tr th {\n",
       "        vertical-align: top;\n",
       "    }\n",
       "\n",
       "    .dataframe thead th {\n",
       "        text-align: right;\n",
       "    }\n",
       "</style>\n",
       "<table border=\"1\" class=\"dataframe\">\n",
       "  <thead>\n",
       "    <tr style=\"text-align: right;\">\n",
       "      <th></th>\n",
       "      <th>D</th>\n",
       "      <th>B</th>\n",
       "      <th>C</th>\n",
       "      <th>A</th>\n",
       "      <th>E</th>\n",
       "      <th>F</th>\n",
       "    </tr>\n",
       "  </thead>\n",
       "  <tbody>\n",
       "    <tr>\n",
       "      <th>2019-02-20</th>\n",
       "      <td>0.324695</td>\n",
       "      <td>1.230460</td>\n",
       "      <td>-0.278866</td>\n",
       "      <td>-0.376364</td>\n",
       "      <td>2</td>\n",
       "      <td>alpha</td>\n",
       "    </tr>\n",
       "    <tr>\n",
       "      <th>2019-02-17</th>\n",
       "      <td>2.884159</td>\n",
       "      <td>-0.172566</td>\n",
       "      <td>-1.294716</td>\n",
       "      <td>-0.669385</td>\n",
       "      <td>3</td>\n",
       "      <td>beta</td>\n",
       "    </tr>\n",
       "    <tr>\n",
       "      <th>2019-02-18</th>\n",
       "      <td>0.221753</td>\n",
       "      <td>-0.552403</td>\n",
       "      <td>-1.141842</td>\n",
       "      <td>-1.575448</td>\n",
       "      <td>3</td>\n",
       "      <td>alpha</td>\n",
       "    </tr>\n",
       "  </tbody>\n",
       "</table>\n",
       "</div>"
      ],
      "text/plain": [
       "                   D         B         C         A  E      F\n",
       "2019-02-20  0.324695  1.230460 -0.278866 -0.376364  2  alpha\n",
       "2019-02-17  2.884159 -0.172566 -1.294716 -0.669385  3   beta\n",
       "2019-02-18  0.221753 -0.552403 -1.141842 -1.575448  3  alpha"
      ]
     },
     "execution_count": 102,
     "metadata": {},
     "output_type": "execute_result"
    }
   ],
   "source": [
    "df2.loc[df2['F'].isin(['alpha', 'beta']), :]"
   ]
  },
  {
   "cell_type": "code",
   "execution_count": 103,
   "metadata": {},
   "outputs": [],
   "source": [
    "df3 = pd.DataFrame(np.random.randn(4, 3),\n",
    "                   columns = ['b', 'd', 'e'],\n",
    "                   index = ['Seoul', 'Incheon', 'Busan', 'Daegu'])"
   ]
  },
  {
   "cell_type": "code",
   "execution_count": 104,
   "metadata": {},
   "outputs": [
    {
     "data": {
      "text/html": [
       "<div>\n",
       "<style scoped>\n",
       "    .dataframe tbody tr th:only-of-type {\n",
       "        vertical-align: middle;\n",
       "    }\n",
       "\n",
       "    .dataframe tbody tr th {\n",
       "        vertical-align: top;\n",
       "    }\n",
       "\n",
       "    .dataframe thead th {\n",
       "        text-align: right;\n",
       "    }\n",
       "</style>\n",
       "<table border=\"1\" class=\"dataframe\">\n",
       "  <thead>\n",
       "    <tr style=\"text-align: right;\">\n",
       "      <th></th>\n",
       "      <th>b</th>\n",
       "      <th>d</th>\n",
       "      <th>e</th>\n",
       "    </tr>\n",
       "  </thead>\n",
       "  <tbody>\n",
       "    <tr>\n",
       "      <th>Seoul</th>\n",
       "      <td>-0.781532</td>\n",
       "      <td>-0.562662</td>\n",
       "      <td>1.313161</td>\n",
       "    </tr>\n",
       "    <tr>\n",
       "      <th>Incheon</th>\n",
       "      <td>-1.348596</td>\n",
       "      <td>-1.658990</td>\n",
       "      <td>-0.575645</td>\n",
       "    </tr>\n",
       "    <tr>\n",
       "      <th>Busan</th>\n",
       "      <td>-1.920736</td>\n",
       "      <td>0.675095</td>\n",
       "      <td>0.995520</td>\n",
       "    </tr>\n",
       "    <tr>\n",
       "      <th>Daegu</th>\n",
       "      <td>-0.330073</td>\n",
       "      <td>0.153807</td>\n",
       "      <td>0.835627</td>\n",
       "    </tr>\n",
       "  </tbody>\n",
       "</table>\n",
       "</div>"
      ],
      "text/plain": [
       "                b         d         e\n",
       "Seoul   -0.781532 -0.562662  1.313161\n",
       "Incheon -1.348596 -1.658990 -0.575645\n",
       "Busan   -1.920736  0.675095  0.995520\n",
       "Daegu   -0.330073  0.153807  0.835627"
      ]
     },
     "execution_count": 104,
     "metadata": {},
     "output_type": "execute_result"
    }
   ],
   "source": [
    "df3"
   ]
  },
  {
   "cell_type": "code",
   "execution_count": 105,
   "metadata": {},
   "outputs": [],
   "source": [
    "func = lambda x: x.max() - x.min()"
   ]
  },
  {
   "cell_type": "code",
   "execution_count": 106,
   "metadata": {},
   "outputs": [
    {
     "data": {
      "text/plain": [
       "b    1.590663\n",
       "d    2.334085\n",
       "e    1.888806\n",
       "dtype: float64"
      ]
     },
     "execution_count": 106,
     "metadata": {},
     "output_type": "execute_result"
    }
   ],
   "source": [
    "df3.apply(func, axis=0)"
   ]
  },
  {
   "cell_type": "code",
   "execution_count": 107,
   "metadata": {},
   "outputs": [
    {
     "data": {
      "text/plain": [
       "Seoul      2.094693\n",
       "Incheon    1.083345\n",
       "Busan      2.916255\n",
       "Daegu      1.165700\n",
       "dtype: float64"
      ]
     },
     "execution_count": 107,
     "metadata": {},
     "output_type": "execute_result"
    }
   ],
   "source": [
    "df3.apply(func, axis=1)"
   ]
  }
 ],
 "metadata": {
  "kernelspec": {
   "display_name": "Python 3",
   "language": "python",
   "name": "python3"
  },
  "language_info": {
   "codemirror_mode": {
    "name": "ipython",
    "version": 3
   },
   "file_extension": ".py",
   "mimetype": "text/x-python",
   "name": "python",
   "nbconvert_exporter": "python",
   "pygments_lexer": "ipython3",
   "version": "3.6.4"
  }
 },
 "nbformat": 4,
 "nbformat_minor": 2
}
